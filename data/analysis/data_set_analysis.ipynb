{
 "cells": [
  {
   "cell_type": "code",
   "execution_count": 1,
   "id": "2cfe4c61-37dd-46bb-9317-0baf4aa09591",
   "metadata": {},
   "outputs": [
    {
     "name": "stdout",
     "output_type": "stream",
     "text": [
      "Python 3.12.3\n"
     ]
    }
   ],
   "source": [
    "!python -V"
   ]
  },
  {
   "cell_type": "code",
   "execution_count": 2,
   "id": "98f4c1e7-dc3f-4953-9e08-ff70abb140fc",
   "metadata": {},
   "outputs": [
    {
     "name": "stdout",
     "output_type": "stream",
     "text": [
      "/home/joviedo/paraguay-public-servant-salary-calculato/data/analysis\n"
     ]
    }
   ],
   "source": [
    "!pwd"
   ]
  },
  {
   "cell_type": "code",
   "execution_count": 3,
   "id": "38f49c21-9eb3-4731-b7b1-d1c83cc82c5b",
   "metadata": {},
   "outputs": [],
   "source": [
    "!rm -rf ../raw"
   ]
  },
  {
   "cell_type": "code",
   "execution_count": 4,
   "id": "0dcc68bb-c3da-429f-b734-833c37fb5b9d",
   "metadata": {},
   "outputs": [],
   "source": [
    "!mkdir ../raw"
   ]
  },
  {
   "cell_type": "markdown",
   "id": "4386de80-6908-4fe8-9590-a48885fece5c",
   "metadata": {},
   "source": [
    "Descargo el dataset del sitio https://datos.sfp.gov.py/data/funcionarios/download"
   ]
  },
  {
   "cell_type": "code",
   "execution_count": 5,
   "id": "a9659a0e-8f47-4dcc-b4ac-aaff7d628a5c",
   "metadata": {},
   "outputs": [
    {
     "name": "stdout",
     "output_type": "stream",
     "text": [
      "--2024-07-21 02:31:44--  https://datos.sfp.gov.py/data/funcionarios_2024_5.csv.zip\n",
      "Resolving datos.sfp.gov.py (datos.sfp.gov.py)... 168.90.177.193, 200.160.0.5, 130.59.31.30, ...\n",
      "Connecting to datos.sfp.gov.py (datos.sfp.gov.py)|168.90.177.193|:443... connected.\n",
      "HTTP request sent, awaiting response... 200 OK\n",
      "Length: 36979627 (35M) [application/zip]\n",
      "Saving to: ‘../raw/funcionarios_2024_5.csv.zip’\n",
      "\n",
      "funcionarios_2024_5 100%[===================>]  35.27M  32.2MB/s    in 1.1s    \n",
      "\n",
      "2024-07-21 02:31:45 (32.2 MB/s) - ‘../raw/funcionarios_2024_5.csv.zip’ saved [36979627/36979627]\n",
      "\n"
     ]
    }
   ],
   "source": [
    "!wget -P ../raw/ https://datos.sfp.gov.py/data/funcionarios_2024_5.csv.zip"
   ]
  },
  {
   "cell_type": "code",
   "execution_count": 6,
   "id": "94ab8fcf-4ada-4056-8fc5-4db7232f791c",
   "metadata": {},
   "outputs": [
    {
     "name": "stdout",
     "output_type": "stream",
     "text": [
      "Archive:  ../raw/funcionarios_2024_5.csv.zip\n",
      "  inflating: ../raw/funcionarios_2024_5.csv  \n"
     ]
    }
   ],
   "source": [
    "!unzip ../raw/funcionarios_2024_5.csv.zip -d ../raw/"
   ]
  },
  {
   "cell_type": "code",
   "execution_count": 7,
   "id": "c08446ef-0be6-4bc7-b9b9-bc61ef760077",
   "metadata": {},
   "outputs": [
    {
     "name": "stdout",
     "output_type": "stream",
     "text": [
      "total 483792\n",
      "-rw-r--r-- 1 joviedo joviedo 458417876 Jul 20 04:54 funcionarios_2024_5.csv\n",
      "-rw-rw-r-- 1 joviedo joviedo  36979627 Jul 20 04:54 funcionarios_2024_5.csv.zip\n"
     ]
    }
   ],
   "source": [
    "!ls -l ../raw/"
   ]
  },
  {
   "cell_type": "code",
   "execution_count": 8,
   "id": "2de8f744-26ff-47eb-9895-0b9d65de3b39",
   "metadata": {},
   "outputs": [],
   "source": [
    "import pandas as pd\n",
    "import matplotlib.pyplot as plt\n",
    "import seaborn as sns\n",
    "\n",
    "from datetime import date\n",
    "from category_encoders import CountEncoder, CatBoostEncoder\n",
    "from sklearn.preprocessing import StandardScaler\n",
    "from sklearn.model_selection import train_test_split\n",
    "from sklearn.linear_model import Ridge\n",
    "from sklearn.ensemble import RandomForestRegressor\n",
    "import xgboost as xgb\n",
    "import lightgbm as lgb\n",
    "from sklearn.metrics import root_mean_squared_error"
   ]
  },
  {
   "cell_type": "markdown",
   "id": "de2edfbc-0837-4c15-943f-e7d85ac0e26a",
   "metadata": {},
   "source": [
    "Cargo el dataset (archivo descargado de la pagina "
   ]
  },
  {
   "cell_type": "code",
   "execution_count": 9,
   "id": "1e03fec6-6a1b-4904-aea7-92581ee0b820",
   "metadata": {},
   "outputs": [
    {
     "name": "stderr",
     "output_type": "stream",
     "text": [
      "/tmp/ipykernel_99708/828777021.py:1: DtypeWarning: Columns (8,13,17,21,26,27,34) have mixed types. Specify dtype option on import or set low_memory=False.\n",
      "  df_2024_05 = pd.read_csv(r'../raw/funcionarios_2024_5.csv', encoding='latin-1')\n"
     ]
    }
   ],
   "source": [
    "df_2024_05 = pd.read_csv(r'../raw/funcionarios_2024_5.csv', encoding='latin-1')"
   ]
  },
  {
   "cell_type": "markdown",
   "id": "2513c3d7-a672-419d-9e6c-9fc7d0f30b6d",
   "metadata": {},
   "source": [
    "Tamaño del dataset"
   ]
  },
  {
   "cell_type": "code",
   "execution_count": 10,
   "id": "2d7ea438-336f-4d27-bd4a-f35b50cbd841",
   "metadata": {},
   "outputs": [
    {
     "data": {
      "text/plain": [
       "(992223, 35)"
      ]
     },
     "execution_count": 10,
     "metadata": {},
     "output_type": "execute_result"
    }
   ],
   "source": [
    "df_2024_05.shape"
   ]
  },
  {
   "cell_type": "markdown",
   "id": "3ff6a274-1d33-4719-b0cb-4e6eead06a89",
   "metadata": {},
   "source": [
    "Previsualizo el dataset"
   ]
  },
  {
   "cell_type": "code",
   "execution_count": 11,
   "id": "f2c863d5-9495-4c0c-9e8c-cad728f2bf33",
   "metadata": {},
   "outputs": [
    {
     "data": {
      "text/html": [
       "<div>\n",
       "<style scoped>\n",
       "    .dataframe tbody tr th:only-of-type {\n",
       "        vertical-align: middle;\n",
       "    }\n",
       "\n",
       "    .dataframe tbody tr th {\n",
       "        vertical-align: top;\n",
       "    }\n",
       "\n",
       "    .dataframe thead th {\n",
       "        text-align: right;\n",
       "    }\n",
       "</style>\n",
       "<table border=\"1\" class=\"dataframe\">\n",
       "  <thead>\n",
       "    <tr style=\"text-align: right;\">\n",
       "      <th></th>\n",
       "      <th>anho</th>\n",
       "      <th>mes</th>\n",
       "      <th>nivel</th>\n",
       "      <th>descripcion_nivel</th>\n",
       "      <th>entidad</th>\n",
       "      <th>descripcion_entidad</th>\n",
       "      <th>oee</th>\n",
       "      <th>descripcion_oee</th>\n",
       "      <th>documento</th>\n",
       "      <th>nombres</th>\n",
       "      <th>...</th>\n",
       "      <th>devengado</th>\n",
       "      <th>movimiento</th>\n",
       "      <th>lugar</th>\n",
       "      <th>fecha_nacimiento</th>\n",
       "      <th>fec_ult_modif</th>\n",
       "      <th>uri</th>\n",
       "      <th>fecha_acto</th>\n",
       "      <th>correo</th>\n",
       "      <th>profesion</th>\n",
       "      <th>motivo_movimiento</th>\n",
       "    </tr>\n",
       "  </thead>\n",
       "  <tbody>\n",
       "    <tr>\n",
       "      <th>0</th>\n",
       "      <td>2024</td>\n",
       "      <td>5</td>\n",
       "      <td>28</td>\n",
       "      <td>UNIVERSIDADES NACIONALES</td>\n",
       "      <td>8</td>\n",
       "      <td>UNIVERSIDAD NACIONAL DE CANINDEYU</td>\n",
       "      <td>1</td>\n",
       "      <td>UNIVERSIDAD NACIONAL DE CANINDEYU (UNCAN)</td>\n",
       "      <td>VAC2210830</td>\n",
       "      <td>VACANTE</td>\n",
       "      <td>...</td>\n",
       "      <td>0</td>\n",
       "      <td>NaN</td>\n",
       "      <td>NaN</td>\n",
       "      <td>NaN</td>\n",
       "      <td>2024/06/06 14:38:04.510000000</td>\n",
       "      <td>http://datos.sfp.gov.py/id/funcionarios/0</td>\n",
       "      <td>NaN</td>\n",
       "      <td>NaN</td>\n",
       "      <td>NaN</td>\n",
       "      <td>NaN</td>\n",
       "    </tr>\n",
       "    <tr>\n",
       "      <th>1</th>\n",
       "      <td>2024</td>\n",
       "      <td>5</td>\n",
       "      <td>22</td>\n",
       "      <td>GOBIERNOS DEPARTAMENTALES</td>\n",
       "      <td>8</td>\n",
       "      <td>VIII DEPARTAMENTO: GOBERNACION DE MISIONES</td>\n",
       "      <td>1</td>\n",
       "      <td>VIII DEPARTAMENTO: GOBERNACION DE MISIONES</td>\n",
       "      <td>2895739</td>\n",
       "      <td>RICHARD ROLANDO</td>\n",
       "      <td>...</td>\n",
       "      <td>26153400</td>\n",
       "      <td>A - ALTA (INCORPORACIÓN)</td>\n",
       "      <td>NaN</td>\n",
       "      <td>1984/01/14 00:00:00.000</td>\n",
       "      <td>2024/05/24 08:34:51.702000000</td>\n",
       "      <td>http://datos.sfp.gov.py/id/funcionarios/2895739</td>\n",
       "      <td>2023/08/15 00:00:00.000</td>\n",
       "      <td>rrhhgormisionespy@outlook.es</td>\n",
       "      <td>ABOGADO</td>\n",
       "      <td>Alta, por asuncion de cargo como Gobernador</td>\n",
       "    </tr>\n",
       "    <tr>\n",
       "      <th>2</th>\n",
       "      <td>2024</td>\n",
       "      <td>5</td>\n",
       "      <td>22</td>\n",
       "      <td>GOBIERNOS DEPARTAMENTALES</td>\n",
       "      <td>8</td>\n",
       "      <td>VIII DEPARTAMENTO: GOBERNACION DE MISIONES</td>\n",
       "      <td>1</td>\n",
       "      <td>VIII DEPARTAMENTO: GOBERNACION DE MISIONES</td>\n",
       "      <td>2895739</td>\n",
       "      <td>RICHARD ROLANDO</td>\n",
       "      <td>...</td>\n",
       "      <td>2851200</td>\n",
       "      <td>A - ALTA (INCORPORACIÓN)</td>\n",
       "      <td>NaN</td>\n",
       "      <td>1984/01/14 00:00:00.000</td>\n",
       "      <td>2024/05/24 08:34:51.702000000</td>\n",
       "      <td>http://datos.sfp.gov.py/id/funcionarios/2895739</td>\n",
       "      <td>2023/08/15 00:00:00.000</td>\n",
       "      <td>rrhhgormisionespy@outlook.es</td>\n",
       "      <td>ABOGADO</td>\n",
       "      <td>Alta, por asuncion de cargo como Gobernador</td>\n",
       "    </tr>\n",
       "    <tr>\n",
       "      <th>3</th>\n",
       "      <td>2024</td>\n",
       "      <td>5</td>\n",
       "      <td>22</td>\n",
       "      <td>GOBIERNOS DEPARTAMENTALES</td>\n",
       "      <td>8</td>\n",
       "      <td>VIII DEPARTAMENTO: GOBERNACION DE MISIONES</td>\n",
       "      <td>1</td>\n",
       "      <td>VIII DEPARTAMENTO: GOBERNACION DE MISIONES</td>\n",
       "      <td>1749090</td>\n",
       "      <td>MARIA TOMASA</td>\n",
       "      <td>...</td>\n",
       "      <td>7425200</td>\n",
       "      <td>NaN</td>\n",
       "      <td>NaN</td>\n",
       "      <td>1977/05/19 00:00:00.000</td>\n",
       "      <td>2024/05/24 08:34:51.703000000</td>\n",
       "      <td>http://datos.sfp.gov.py/id/funcionarios/1749090</td>\n",
       "      <td>2018/08/15 00:00:00.000</td>\n",
       "      <td>rrhhgormisionespy@outlook.es</td>\n",
       "      <td>UNIVERSITARIO</td>\n",
       "      <td>NaN</td>\n",
       "    </tr>\n",
       "    <tr>\n",
       "      <th>4</th>\n",
       "      <td>2024</td>\n",
       "      <td>5</td>\n",
       "      <td>22</td>\n",
       "      <td>GOBIERNOS DEPARTAMENTALES</td>\n",
       "      <td>8</td>\n",
       "      <td>VIII DEPARTAMENTO: GOBERNACION DE MISIONES</td>\n",
       "      <td>1</td>\n",
       "      <td>VIII DEPARTAMENTO: GOBERNACION DE MISIONES</td>\n",
       "      <td>1749090</td>\n",
       "      <td>MARIA TOMASA</td>\n",
       "      <td>...</td>\n",
       "      <td>2500000</td>\n",
       "      <td>NaN</td>\n",
       "      <td>NaN</td>\n",
       "      <td>1977/05/19 00:00:00.000</td>\n",
       "      <td>2024/05/24 08:34:51.704000000</td>\n",
       "      <td>http://datos.sfp.gov.py/id/funcionarios/1749090</td>\n",
       "      <td>2018/08/15 00:00:00.000</td>\n",
       "      <td>rrhhgormisionespy@outlook.es</td>\n",
       "      <td>UNIVERSITARIO</td>\n",
       "      <td>NaN</td>\n",
       "    </tr>\n",
       "  </tbody>\n",
       "</table>\n",
       "<p>5 rows × 35 columns</p>\n",
       "</div>"
      ],
      "text/plain": [
       "   anho  mes  nivel          descripcion_nivel  entidad  \\\n",
       "0  2024    5     28   UNIVERSIDADES NACIONALES        8   \n",
       "1  2024    5     22  GOBIERNOS DEPARTAMENTALES        8   \n",
       "2  2024    5     22  GOBIERNOS DEPARTAMENTALES        8   \n",
       "3  2024    5     22  GOBIERNOS DEPARTAMENTALES        8   \n",
       "4  2024    5     22  GOBIERNOS DEPARTAMENTALES        8   \n",
       "\n",
       "                          descripcion_entidad  oee  \\\n",
       "0           UNIVERSIDAD NACIONAL DE CANINDEYU    1   \n",
       "1  VIII DEPARTAMENTO: GOBERNACION DE MISIONES    1   \n",
       "2  VIII DEPARTAMENTO: GOBERNACION DE MISIONES    1   \n",
       "3  VIII DEPARTAMENTO: GOBERNACION DE MISIONES    1   \n",
       "4  VIII DEPARTAMENTO: GOBERNACION DE MISIONES    1   \n",
       "\n",
       "                              descripcion_oee   documento          nombres  \\\n",
       "0   UNIVERSIDAD NACIONAL DE CANINDEYU (UNCAN)  VAC2210830          VACANTE   \n",
       "1  VIII DEPARTAMENTO: GOBERNACION DE MISIONES     2895739  RICHARD ROLANDO   \n",
       "2  VIII DEPARTAMENTO: GOBERNACION DE MISIONES     2895739  RICHARD ROLANDO   \n",
       "3  VIII DEPARTAMENTO: GOBERNACION DE MISIONES     1749090     MARIA TOMASA   \n",
       "4  VIII DEPARTAMENTO: GOBERNACION DE MISIONES     1749090     MARIA TOMASA   \n",
       "\n",
       "   ... devengado                movimiento lugar         fecha_nacimiento  \\\n",
       "0  ...         0                       NaN   NaN                      NaN   \n",
       "1  ...  26153400  A - ALTA (INCORPORACIÓN)   NaN  1984/01/14 00:00:00.000   \n",
       "2  ...   2851200  A - ALTA (INCORPORACIÓN)   NaN  1984/01/14 00:00:00.000   \n",
       "3  ...   7425200                       NaN   NaN  1977/05/19 00:00:00.000   \n",
       "4  ...   2500000                       NaN   NaN  1977/05/19 00:00:00.000   \n",
       "\n",
       "                   fec_ult_modif  \\\n",
       "0  2024/06/06 14:38:04.510000000   \n",
       "1  2024/05/24 08:34:51.702000000   \n",
       "2  2024/05/24 08:34:51.702000000   \n",
       "3  2024/05/24 08:34:51.703000000   \n",
       "4  2024/05/24 08:34:51.704000000   \n",
       "\n",
       "                                               uri               fecha_acto  \\\n",
       "0        http://datos.sfp.gov.py/id/funcionarios/0                      NaN   \n",
       "1  http://datos.sfp.gov.py/id/funcionarios/2895739  2023/08/15 00:00:00.000   \n",
       "2  http://datos.sfp.gov.py/id/funcionarios/2895739  2023/08/15 00:00:00.000   \n",
       "3  http://datos.sfp.gov.py/id/funcionarios/1749090  2018/08/15 00:00:00.000   \n",
       "4  http://datos.sfp.gov.py/id/funcionarios/1749090  2018/08/15 00:00:00.000   \n",
       "\n",
       "                         correo      profesion  \\\n",
       "0                           NaN            NaN   \n",
       "1  rrhhgormisionespy@outlook.es        ABOGADO   \n",
       "2  rrhhgormisionespy@outlook.es        ABOGADO   \n",
       "3  rrhhgormisionespy@outlook.es  UNIVERSITARIO   \n",
       "4  rrhhgormisionespy@outlook.es  UNIVERSITARIO   \n",
       "\n",
       "                             motivo_movimiento  \n",
       "0                                          NaN  \n",
       "1  Alta, por asuncion de cargo como Gobernador  \n",
       "2  Alta, por asuncion de cargo como Gobernador  \n",
       "3                                          NaN  \n",
       "4                                          NaN  \n",
       "\n",
       "[5 rows x 35 columns]"
      ]
     },
     "execution_count": 11,
     "metadata": {},
     "output_type": "execute_result"
    }
   ],
   "source": [
    "df_2024_05.head()"
   ]
  },
  {
   "cell_type": "markdown",
   "id": "bfd261b9-3e4a-4bf7-aac7-431d461b639d",
   "metadata": {},
   "source": [
    "Listo los nombres de las columnas"
   ]
  },
  {
   "cell_type": "code",
   "execution_count": 12,
   "id": "d9f5efa7-31da-4787-bd27-6a55a0f06a64",
   "metadata": {},
   "outputs": [
    {
     "name": "stdout",
     "output_type": "stream",
     "text": [
      "Index(['anho', 'mes', 'nivel', 'descripcion_nivel', 'entidad',\n",
      "       'descripcion_entidad', 'oee', 'descripcion_oee', 'documento', 'nombres',\n",
      "       'apellidos', 'funcion', 'estado', 'carga_horaria', 'anho_ingreso',\n",
      "       'sexo', 'discapacidad', 'tipo_discapacidad', 'fuente_financiamiento',\n",
      "       'objeto_gasto', 'concepto', 'linea', 'categoria', 'cargo',\n",
      "       'presupuestado', 'devengado', 'movimiento', 'lugar', 'fecha_nacimiento',\n",
      "       'fec_ult_modif', 'uri', 'fecha_acto', 'correo', 'profesion',\n",
      "       'motivo_movimiento'],\n",
      "      dtype='object')\n"
     ]
    },
    {
     "data": {
      "text/plain": [
       "35"
      ]
     },
     "execution_count": 12,
     "metadata": {},
     "output_type": "execute_result"
    }
   ],
   "source": [
    "print(df_2024_05.columns)\n",
    "len(df_2024_05.columns)"
   ]
  },
  {
   "cell_type": "code",
   "execution_count": 13,
   "id": "f6b2bde8-3cf7-4c7f-a280-88b99a8e3b8e",
   "metadata": {},
   "outputs": [
    {
     "name": "stdout",
     "output_type": "stream",
     "text": [
      "<class 'pandas.core.frame.DataFrame'>\n",
      "RangeIndex: 992223 entries, 0 to 992222\n",
      "Data columns (total 35 columns):\n",
      " #   Column                 Non-Null Count   Dtype \n",
      "---  ------                 --------------   ----- \n",
      " 0   anho                   992223 non-null  int64 \n",
      " 1   mes                    992223 non-null  int64 \n",
      " 2   nivel                  992223 non-null  int64 \n",
      " 3   descripcion_nivel      992223 non-null  object\n",
      " 4   entidad                992223 non-null  int64 \n",
      " 5   descripcion_entidad    992223 non-null  object\n",
      " 6   oee                    992223 non-null  int64 \n",
      " 7   descripcion_oee        992223 non-null  object\n",
      " 8   documento              992223 non-null  object\n",
      " 9   nombres                992223 non-null  object\n",
      " 10  apellidos              992223 non-null  object\n",
      " 11  funcion                883290 non-null  object\n",
      " 12  estado                 992223 non-null  object\n",
      " 13  carga_horaria          840852 non-null  object\n",
      " 14  anho_ingreso           992223 non-null  int64 \n",
      " 15  sexo                   992223 non-null  object\n",
      " 16  discapacidad           992223 non-null  object\n",
      " 17  tipo_discapacidad      6168 non-null    object\n",
      " 18  fuente_financiamiento  992223 non-null  int64 \n",
      " 19  objeto_gasto           992223 non-null  int64 \n",
      " 20  concepto               990864 non-null  object\n",
      " 21  linea                  992223 non-null  object\n",
      " 22  categoria              992214 non-null  object\n",
      " 23  cargo                  949192 non-null  object\n",
      " 24  presupuestado          992223 non-null  int64 \n",
      " 25  devengado              992223 non-null  int64 \n",
      " 26  movimiento             30668 non-null   object\n",
      " 27  lugar                  21090 non-null   object\n",
      " 28  fecha_nacimiento       980163 non-null  object\n",
      " 29  fec_ult_modif          992223 non-null  object\n",
      " 30  uri                    992223 non-null  object\n",
      " 31  fecha_acto             986594 non-null  object\n",
      " 32  correo                 987205 non-null  object\n",
      " 33  profesion              986947 non-null  object\n",
      " 34  motivo_movimiento      30956 non-null   object\n",
      "dtypes: int64(10), object(25)\n",
      "memory usage: 265.0+ MB\n"
     ]
    }
   ],
   "source": [
    "df_2024_05.info()"
   ]
  },
  {
   "cell_type": "markdown",
   "id": "99cc5e2d-9d61-4dd0-a32a-cd5876eaa338",
   "metadata": {},
   "source": [
    "Verifico registros duplicados"
   ]
  },
  {
   "cell_type": "code",
   "execution_count": 14,
   "id": "67bf7ebf-f7b4-4773-bb96-d556fbe4fdff",
   "metadata": {},
   "outputs": [
    {
     "data": {
      "text/plain": [
       "1093"
      ]
     },
     "execution_count": 14,
     "metadata": {},
     "output_type": "execute_result"
    }
   ],
   "source": [
    "duplicates = df_2024_05.duplicated()\n",
    "len(df_2024_05[duplicates])"
   ]
  },
  {
   "cell_type": "markdown",
   "id": "22c27ad8-4264-4ba0-a8d9-c9590d3ab097",
   "metadata": {},
   "source": [
    "Elimino registros duplicados"
   ]
  },
  {
   "cell_type": "code",
   "execution_count": 15,
   "id": "eec88134-9c89-487b-9ab6-4f591741a964",
   "metadata": {},
   "outputs": [
    {
     "data": {
      "text/plain": [
       "(991130, 35)"
      ]
     },
     "execution_count": 15,
     "metadata": {},
     "output_type": "execute_result"
    }
   ],
   "source": [
    "df_2024_05 = df_2024_05.drop_duplicates()\n",
    "df_2024_05.shape"
   ]
  },
  {
   "cell_type": "markdown",
   "id": "ed7da22e-7f53-4300-9703-c71a2053276d",
   "metadata": {},
   "source": [
    "Defino la variable objetivo"
   ]
  },
  {
   "cell_type": "code",
   "execution_count": 16,
   "id": "2652e38c-b6de-42c9-9edc-39408540abdf",
   "metadata": {},
   "outputs": [],
   "source": [
    "target = 'presupuestado'"
   ]
  },
  {
   "cell_type": "markdown",
   "id": "ff42fad2-6894-42e4-9598-dd2cc1f2be23",
   "metadata": {},
   "source": [
    "Elimino variables sensibles (variables que pueden ser sensibles y potencialmente discriminatorias si se utilizan incorrectamente) y redundantes."
   ]
  },
  {
   "cell_type": "code",
   "execution_count": 17,
   "id": "6640381c-cc75-40f3-9298-3d6828a881cc",
   "metadata": {},
   "outputs": [
    {
     "data": {
      "text/html": [
       "<div>\n",
       "<style scoped>\n",
       "    .dataframe tbody tr th:only-of-type {\n",
       "        vertical-align: middle;\n",
       "    }\n",
       "\n",
       "    .dataframe tbody tr th {\n",
       "        vertical-align: top;\n",
       "    }\n",
       "\n",
       "    .dataframe thead th {\n",
       "        text-align: right;\n",
       "    }\n",
       "</style>\n",
       "<table border=\"1\" class=\"dataframe\">\n",
       "  <thead>\n",
       "    <tr style=\"text-align: right;\">\n",
       "      <th></th>\n",
       "      <th>count</th>\n",
       "      <th>mean</th>\n",
       "      <th>std</th>\n",
       "      <th>min</th>\n",
       "      <th>25%</th>\n",
       "      <th>50%</th>\n",
       "      <th>75%</th>\n",
       "      <th>max</th>\n",
       "    </tr>\n",
       "  </thead>\n",
       "  <tbody>\n",
       "    <tr>\n",
       "      <th>anho</th>\n",
       "      <td>991130.0</td>\n",
       "      <td>2.024000e+03</td>\n",
       "      <td>0.000000e+00</td>\n",
       "      <td>2024.0</td>\n",
       "      <td>2024.0</td>\n",
       "      <td>2024.0</td>\n",
       "      <td>2024.0</td>\n",
       "      <td>2024.0</td>\n",
       "    </tr>\n",
       "    <tr>\n",
       "      <th>mes</th>\n",
       "      <td>991130.0</td>\n",
       "      <td>5.000000e+00</td>\n",
       "      <td>0.000000e+00</td>\n",
       "      <td>5.0</td>\n",
       "      <td>5.0</td>\n",
       "      <td>5.0</td>\n",
       "      <td>5.0</td>\n",
       "      <td>5.0</td>\n",
       "    </tr>\n",
       "    <tr>\n",
       "      <th>nivel</th>\n",
       "      <td>991130.0</td>\n",
       "      <td>1.653629e+01</td>\n",
       "      <td>7.139673e+00</td>\n",
       "      <td>11.0</td>\n",
       "      <td>12.0</td>\n",
       "      <td>12.0</td>\n",
       "      <td>24.0</td>\n",
       "      <td>40.0</td>\n",
       "    </tr>\n",
       "    <tr>\n",
       "      <th>entidad</th>\n",
       "      <td>991130.0</td>\n",
       "      <td>5.969835e+00</td>\n",
       "      <td>5.225751e+00</td>\n",
       "      <td>1.0</td>\n",
       "      <td>2.0</td>\n",
       "      <td>7.0</td>\n",
       "      <td>7.0</td>\n",
       "      <td>40.0</td>\n",
       "    </tr>\n",
       "    <tr>\n",
       "      <th>oee</th>\n",
       "      <td>991130.0</td>\n",
       "      <td>6.698266e+00</td>\n",
       "      <td>2.899276e+01</td>\n",
       "      <td>1.0</td>\n",
       "      <td>1.0</td>\n",
       "      <td>1.0</td>\n",
       "      <td>1.0</td>\n",
       "      <td>524.0</td>\n",
       "    </tr>\n",
       "    <tr>\n",
       "      <th>anho_ingreso</th>\n",
       "      <td>991130.0</td>\n",
       "      <td>1.939381e+03</td>\n",
       "      <td>3.672638e+02</td>\n",
       "      <td>0.0</td>\n",
       "      <td>2002.0</td>\n",
       "      <td>2009.0</td>\n",
       "      <td>2016.0</td>\n",
       "      <td>9999.0</td>\n",
       "    </tr>\n",
       "    <tr>\n",
       "      <th>fuente_financiamiento</th>\n",
       "      <td>991130.0</td>\n",
       "      <td>1.558549e+01</td>\n",
       "      <td>8.970920e+00</td>\n",
       "      <td>0.0</td>\n",
       "      <td>10.0</td>\n",
       "      <td>10.0</td>\n",
       "      <td>30.0</td>\n",
       "      <td>30.0</td>\n",
       "    </tr>\n",
       "    <tr>\n",
       "      <th>objeto_gasto</th>\n",
       "      <td>991130.0</td>\n",
       "      <td>1.298094e+02</td>\n",
       "      <td>3.334422e+01</td>\n",
       "      <td>0.0</td>\n",
       "      <td>111.0</td>\n",
       "      <td>131.0</td>\n",
       "      <td>136.0</td>\n",
       "      <td>874.0</td>\n",
       "    </tr>\n",
       "    <tr>\n",
       "      <th>presupuestado</th>\n",
       "      <td>991130.0</td>\n",
       "      <td>2.230866e+06</td>\n",
       "      <td>2.667470e+06</td>\n",
       "      <td>0.0</td>\n",
       "      <td>500000.0</td>\n",
       "      <td>1208200.0</td>\n",
       "      <td>3632977.0</td>\n",
       "      <td>220000000.0</td>\n",
       "    </tr>\n",
       "    <tr>\n",
       "      <th>devengado</th>\n",
       "      <td>991130.0</td>\n",
       "      <td>2.003909e+06</td>\n",
       "      <td>2.396101e+06</td>\n",
       "      <td>0.0</td>\n",
       "      <td>436000.0</td>\n",
       "      <td>1056613.0</td>\n",
       "      <td>3265920.0</td>\n",
       "      <td>149235160.0</td>\n",
       "    </tr>\n",
       "  </tbody>\n",
       "</table>\n",
       "</div>"
      ],
      "text/plain": [
       "                          count          mean           std     min       25%  \\\n",
       "anho                   991130.0  2.024000e+03  0.000000e+00  2024.0    2024.0   \n",
       "mes                    991130.0  5.000000e+00  0.000000e+00     5.0       5.0   \n",
       "nivel                  991130.0  1.653629e+01  7.139673e+00    11.0      12.0   \n",
       "entidad                991130.0  5.969835e+00  5.225751e+00     1.0       2.0   \n",
       "oee                    991130.0  6.698266e+00  2.899276e+01     1.0       1.0   \n",
       "anho_ingreso           991130.0  1.939381e+03  3.672638e+02     0.0    2002.0   \n",
       "fuente_financiamiento  991130.0  1.558549e+01  8.970920e+00     0.0      10.0   \n",
       "objeto_gasto           991130.0  1.298094e+02  3.334422e+01     0.0     111.0   \n",
       "presupuestado          991130.0  2.230866e+06  2.667470e+06     0.0  500000.0   \n",
       "devengado              991130.0  2.003909e+06  2.396101e+06     0.0  436000.0   \n",
       "\n",
       "                             50%        75%          max  \n",
       "anho                      2024.0     2024.0       2024.0  \n",
       "mes                          5.0        5.0          5.0  \n",
       "nivel                       12.0       24.0         40.0  \n",
       "entidad                      7.0        7.0         40.0  \n",
       "oee                          1.0        1.0        524.0  \n",
       "anho_ingreso              2009.0     2016.0       9999.0  \n",
       "fuente_financiamiento       10.0       30.0         30.0  \n",
       "objeto_gasto               131.0      136.0        874.0  \n",
       "presupuestado          1208200.0  3632977.0  220000000.0  \n",
       "devengado              1056613.0  3265920.0  149235160.0  "
      ]
     },
     "execution_count": 17,
     "metadata": {},
     "output_type": "execute_result"
    }
   ],
   "source": [
    "df_2024_05.describe().T"
   ]
  },
  {
   "cell_type": "code",
   "execution_count": 18,
   "id": "62201877-e702-4367-81d0-fc84f1ddab2a",
   "metadata": {},
   "outputs": [
    {
     "data": {
      "text/html": [
       "<div>\n",
       "<style scoped>\n",
       "    .dataframe tbody tr th:only-of-type {\n",
       "        vertical-align: middle;\n",
       "    }\n",
       "\n",
       "    .dataframe tbody tr th {\n",
       "        vertical-align: top;\n",
       "    }\n",
       "\n",
       "    .dataframe thead th {\n",
       "        text-align: right;\n",
       "    }\n",
       "</style>\n",
       "<table border=\"1\" class=\"dataframe\">\n",
       "  <thead>\n",
       "    <tr style=\"text-align: right;\">\n",
       "      <th></th>\n",
       "      <th>count</th>\n",
       "      <th>unique</th>\n",
       "      <th>top</th>\n",
       "      <th>freq</th>\n",
       "    </tr>\n",
       "  </thead>\n",
       "  <tbody>\n",
       "    <tr>\n",
       "      <th>descripcion_nivel</th>\n",
       "      <td>991130</td>\n",
       "      <td>14</td>\n",
       "      <td>PODER EJECUTIVO</td>\n",
       "      <td>629897</td>\n",
       "    </tr>\n",
       "    <tr>\n",
       "      <th>descripcion_entidad</th>\n",
       "      <td>991130</td>\n",
       "      <td>121</td>\n",
       "      <td>MINISTERIO DE EDUCACION Y CULTURA</td>\n",
       "      <td>338253</td>\n",
       "    </tr>\n",
       "    <tr>\n",
       "      <th>descripcion_oee</th>\n",
       "      <td>991130</td>\n",
       "      <td>383</td>\n",
       "      <td>MINISTERIO DE EDUCACION Y CIENCIAS (MEC)</td>\n",
       "      <td>338253</td>\n",
       "    </tr>\n",
       "    <tr>\n",
       "      <th>documento</th>\n",
       "      <td>991130</td>\n",
       "      <td>366658</td>\n",
       "      <td>656038</td>\n",
       "      <td>27</td>\n",
       "    </tr>\n",
       "    <tr>\n",
       "      <th>nombres</th>\n",
       "      <td>991130</td>\n",
       "      <td>85800</td>\n",
       "      <td>NOMBRES DEL FUNCIONARIO</td>\n",
       "      <td>109244</td>\n",
       "    </tr>\n",
       "    <tr>\n",
       "      <th>apellidos</th>\n",
       "      <td>991130</td>\n",
       "      <td>113711</td>\n",
       "      <td>APELLIDOS DEL FUNCIONARIO</td>\n",
       "      <td>109244</td>\n",
       "    </tr>\n",
       "    <tr>\n",
       "      <th>funcion</th>\n",
       "      <td>882312</td>\n",
       "      <td>33220</td>\n",
       "      <td>CATEDRATICO</td>\n",
       "      <td>164228</td>\n",
       "    </tr>\n",
       "    <tr>\n",
       "      <th>estado</th>\n",
       "      <td>991130</td>\n",
       "      <td>3</td>\n",
       "      <td>PERMANENTE</td>\n",
       "      <td>860624</td>\n",
       "    </tr>\n",
       "    <tr>\n",
       "      <th>carga_horaria</th>\n",
       "      <td>839879</td>\n",
       "      <td>29951</td>\n",
       "      <td>07:00 A 12:00</td>\n",
       "      <td>148619</td>\n",
       "    </tr>\n",
       "    <tr>\n",
       "      <th>sexo</th>\n",
       "      <td>991130</td>\n",
       "      <td>2</td>\n",
       "      <td>FEMENINO</td>\n",
       "      <td>512926</td>\n",
       "    </tr>\n",
       "    <tr>\n",
       "      <th>discapacidad</th>\n",
       "      <td>991130</td>\n",
       "      <td>2</td>\n",
       "      <td>NO</td>\n",
       "      <td>984965</td>\n",
       "    </tr>\n",
       "    <tr>\n",
       "      <th>tipo_discapacidad</th>\n",
       "      <td>6165</td>\n",
       "      <td>6</td>\n",
       "      <td>FISICA</td>\n",
       "      <td>2796</td>\n",
       "    </tr>\n",
       "    <tr>\n",
       "      <th>concepto</th>\n",
       "      <td>989771</td>\n",
       "      <td>1880</td>\n",
       "      <td>SUELDOS</td>\n",
       "      <td>256097</td>\n",
       "    </tr>\n",
       "    <tr>\n",
       "      <th>linea</th>\n",
       "      <td>991130</td>\n",
       "      <td>8575</td>\n",
       "      <td>SIN LÍNEA</td>\n",
       "      <td>468979</td>\n",
       "    </tr>\n",
       "    <tr>\n",
       "      <th>categoria</th>\n",
       "      <td>991121</td>\n",
       "      <td>2775</td>\n",
       "      <td>SIN CATEGORÍA</td>\n",
       "      <td>161676</td>\n",
       "    </tr>\n",
       "    <tr>\n",
       "      <th>cargo</th>\n",
       "      <td>948183</td>\n",
       "      <td>17293</td>\n",
       "      <td>CATEDRATICO</td>\n",
       "      <td>164716</td>\n",
       "    </tr>\n",
       "    <tr>\n",
       "      <th>movimiento</th>\n",
       "      <td>30647</td>\n",
       "      <td>3</td>\n",
       "      <td>A - ALTA (INCORPORACIÓN)</td>\n",
       "      <td>17770</td>\n",
       "    </tr>\n",
       "    <tr>\n",
       "      <th>lugar</th>\n",
       "      <td>21084</td>\n",
       "      <td>2175</td>\n",
       "      <td>0</td>\n",
       "      <td>9876</td>\n",
       "    </tr>\n",
       "    <tr>\n",
       "      <th>fecha_nacimiento</th>\n",
       "      <td>979070</td>\n",
       "      <td>20505</td>\n",
       "      <td>1982/05/08 00:00:00.000</td>\n",
       "      <td>242</td>\n",
       "    </tr>\n",
       "    <tr>\n",
       "      <th>fec_ult_modif</th>\n",
       "      <td>991130</td>\n",
       "      <td>820055</td>\n",
       "      <td>2024/06/13 10:56:36.321000000</td>\n",
       "      <td>24</td>\n",
       "    </tr>\n",
       "    <tr>\n",
       "      <th>uri</th>\n",
       "      <td>991130</td>\n",
       "      <td>303593</td>\n",
       "      <td>http://datos.sfp.gov.py/id/funcionarios/0</td>\n",
       "      <td>11972</td>\n",
       "    </tr>\n",
       "    <tr>\n",
       "      <th>fecha_acto</th>\n",
       "      <td>985501</td>\n",
       "      <td>10582</td>\n",
       "      <td>2024/05/28 00:00:00.000</td>\n",
       "      <td>114851</td>\n",
       "    </tr>\n",
       "    <tr>\n",
       "      <th>correo</th>\n",
       "      <td>986112</td>\n",
       "      <td>204482</td>\n",
       "      <td>d1.personal.pn@gmail.com</td>\n",
       "      <td>101737</td>\n",
       "    </tr>\n",
       "    <tr>\n",
       "      <th>profesion</th>\n",
       "      <td>985854</td>\n",
       "      <td>6455</td>\n",
       "      <td>PROFESOR</td>\n",
       "      <td>215773</td>\n",
       "    </tr>\n",
       "    <tr>\n",
       "      <th>motivo_movimiento</th>\n",
       "      <td>30935</td>\n",
       "      <td>5841</td>\n",
       "      <td>Acta: 929/2017</td>\n",
       "      <td>2572</td>\n",
       "    </tr>\n",
       "  </tbody>\n",
       "</table>\n",
       "</div>"
      ],
      "text/plain": [
       "                      count  unique  \\\n",
       "descripcion_nivel    991130      14   \n",
       "descripcion_entidad  991130     121   \n",
       "descripcion_oee      991130     383   \n",
       "documento            991130  366658   \n",
       "nombres              991130   85800   \n",
       "apellidos            991130  113711   \n",
       "funcion              882312   33220   \n",
       "estado               991130       3   \n",
       "carga_horaria        839879   29951   \n",
       "sexo                 991130       2   \n",
       "discapacidad         991130       2   \n",
       "tipo_discapacidad      6165       6   \n",
       "concepto             989771    1880   \n",
       "linea                991130    8575   \n",
       "categoria            991121    2775   \n",
       "cargo                948183   17293   \n",
       "movimiento            30647       3   \n",
       "lugar                 21084    2175   \n",
       "fecha_nacimiento     979070   20505   \n",
       "fec_ult_modif        991130  820055   \n",
       "uri                  991130  303593   \n",
       "fecha_acto           985501   10582   \n",
       "correo               986112  204482   \n",
       "profesion            985854    6455   \n",
       "motivo_movimiento     30935    5841   \n",
       "\n",
       "                                                           top    freq  \n",
       "descripcion_nivel                              PODER EJECUTIVO  629897  \n",
       "descripcion_entidad          MINISTERIO DE EDUCACION Y CULTURA  338253  \n",
       "descripcion_oee       MINISTERIO DE EDUCACION Y CIENCIAS (MEC)  338253  \n",
       "documento                                               656038      27  \n",
       "nombres                                NOMBRES DEL FUNCIONARIO  109244  \n",
       "apellidos                            APELLIDOS DEL FUNCIONARIO  109244  \n",
       "funcion                                            CATEDRATICO  164228  \n",
       "estado                                              PERMANENTE  860624  \n",
       "carga_horaria                                    07:00 A 12:00  148619  \n",
       "sexo                                                  FEMENINO  512926  \n",
       "discapacidad                                                NO  984965  \n",
       "tipo_discapacidad                                       FISICA    2796  \n",
       "concepto                                               SUELDOS  256097  \n",
       "linea                                                SIN LÍNEA  468979  \n",
       "categoria                                        SIN CATEGORÍA  161676  \n",
       "cargo                                              CATEDRATICO  164716  \n",
       "movimiento                            A - ALTA (INCORPORACIÓN)   17770  \n",
       "lugar                                                        0    9876  \n",
       "fecha_nacimiento                       1982/05/08 00:00:00.000     242  \n",
       "fec_ult_modif                    2024/06/13 10:56:36.321000000      24  \n",
       "uri                  http://datos.sfp.gov.py/id/funcionarios/0   11972  \n",
       "fecha_acto                             2024/05/28 00:00:00.000  114851  \n",
       "correo                                d1.personal.pn@gmail.com  101737  \n",
       "profesion                                             PROFESOR  215773  \n",
       "motivo_movimiento                               Acta: 929/2017    2572  "
      ]
     },
     "execution_count": 18,
     "metadata": {},
     "output_type": "execute_result"
    }
   ],
   "source": [
    "df_2024_05.describe(include=[object]).T"
   ]
  },
  {
   "cell_type": "code",
   "execution_count": 19,
   "id": "14028317-d65f-4386-aa5b-7c608ca833af",
   "metadata": {},
   "outputs": [],
   "source": [
    "list_var_del = ['anho', 'mes', 'documento', 'nombres', 'apellidos', 'sexo', 'discapacidad', 'tipo_discapacidad', 'uri', 'correo', 'carga_horaria', 'fuente_financiamiento',\n",
    "       'objeto_gasto', 'concepto', 'fec_ult_modif', 'fecha_acto', 'motivo_movimiento', 'devengado', 'movimiento', 'lugar', 'linea', 'fecha_nacimiento']\n",
    "\n",
    "df_2024_05.drop(columns=list_var_del, axis=1, inplace=True)"
   ]
  },
  {
   "cell_type": "markdown",
   "id": "be3575a9-a4f2-4dd2-8fdd-c975bcab592c",
   "metadata": {},
   "source": [
    "Solo tomo registros con año de ingreso mayor a 0 y menor al año actual.\n",
    "El valor de la variable objetivo debe ser mayor a 0"
   ]
  },
  {
   "cell_type": "code",
   "execution_count": 20,
   "id": "438aebfb-f238-445c-9353-d499cffd5b9f",
   "metadata": {},
   "outputs": [
    {
     "data": {
      "text/plain": [
       "54        0\n",
       "203       0\n",
       "207       0\n",
       "209       0\n",
       "212       0\n",
       "         ..\n",
       "946260    0\n",
       "946360    0\n",
       "949518    0\n",
       "972737    0\n",
       "988983    0\n",
       "Name: presupuestado, Length: 1969, dtype: int64"
      ]
     },
     "execution_count": 20,
     "metadata": {},
     "output_type": "execute_result"
    }
   ],
   "source": [
    "df_2024_05[(df_2024_05[target] <= 0)][target]"
   ]
  },
  {
   "cell_type": "code",
   "execution_count": 21,
   "id": "82a9969e-aa5a-46be-81fb-0af1e12d57e3",
   "metadata": {},
   "outputs": [
    {
     "data": {
      "text/plain": [
       "0         0\n",
       "5         0\n",
       "47        0\n",
       "54        0\n",
       "128       0\n",
       "         ..\n",
       "941613    0\n",
       "941614    0\n",
       "941615    0\n",
       "941616    0\n",
       "941617    0\n",
       "Name: anho_ingreso, Length: 34277, dtype: int64"
      ]
     },
     "execution_count": 21,
     "metadata": {},
     "output_type": "execute_result"
    }
   ],
   "source": [
    "anho_actual = date.today().year\n",
    "df_2024_05[(df_2024_05['anho_ingreso'] <= 0) |  (df_2024_05['anho_ingreso'] > anho_actual)]['anho_ingreso']"
   ]
  },
  {
   "cell_type": "code",
   "execution_count": 22,
   "id": "bdec07f6-8358-459d-ad27-41b5f4e230eb",
   "metadata": {},
   "outputs": [
    {
     "data": {
      "text/plain": [
       "(955218, 13)"
      ]
     },
     "execution_count": 22,
     "metadata": {},
     "output_type": "execute_result"
    }
   ],
   "source": [
    "df_2024_05 = df_2024_05[(df_2024_05[target] > 0) & (df_2024_05['anho_ingreso'] > 0) & (df_2024_05['anho_ingreso'] <= anho_actual)]\n",
    "df_2024_05.shape"
   ]
  },
  {
   "cell_type": "markdown",
   "id": "8045daea-db1c-423f-9e8a-19fa319539f9",
   "metadata": {},
   "source": [
    "Calculo la antiguedad laboral y elimino el año de ingreso"
   ]
  },
  {
   "cell_type": "code",
   "execution_count": 23,
   "id": "6bfc10d0-20e4-4ea7-8fe7-f2f3b8624a5a",
   "metadata": {},
   "outputs": [
    {
     "data": {
      "text/plain": [
       "(954980, 13)"
      ]
     },
     "execution_count": 23,
     "metadata": {},
     "output_type": "execute_result"
    }
   ],
   "source": [
    "df_2024_05['antiguedad_laboral'] = anho_actual - df_2024_05['anho_ingreso']\n",
    "df_2024_05.drop(columns=['anho_ingreso'], index=1, inplace=True)\n",
    "df_2024_05 = df_2024_05[df_2024_05.antiguedad_laboral <= 50]\n",
    "df_2024_05.shape"
   ]
  },
  {
   "cell_type": "code",
   "execution_count": 24,
   "id": "0e9c405a-f93b-413d-b58a-6ef592285256",
   "metadata": {},
   "outputs": [
    {
     "data": {
      "text/html": [
       "<div>\n",
       "<style scoped>\n",
       "    .dataframe tbody tr th:only-of-type {\n",
       "        vertical-align: middle;\n",
       "    }\n",
       "\n",
       "    .dataframe tbody tr th {\n",
       "        vertical-align: top;\n",
       "    }\n",
       "\n",
       "    .dataframe thead th {\n",
       "        text-align: right;\n",
       "    }\n",
       "</style>\n",
       "<table border=\"1\" class=\"dataframe\">\n",
       "  <thead>\n",
       "    <tr style=\"text-align: right;\">\n",
       "      <th></th>\n",
       "      <th>nivel</th>\n",
       "      <th>descripcion_nivel</th>\n",
       "      <th>entidad</th>\n",
       "      <th>descripcion_entidad</th>\n",
       "      <th>oee</th>\n",
       "      <th>descripcion_oee</th>\n",
       "      <th>funcion</th>\n",
       "      <th>estado</th>\n",
       "      <th>categoria</th>\n",
       "      <th>cargo</th>\n",
       "      <th>presupuestado</th>\n",
       "      <th>profesion</th>\n",
       "      <th>antiguedad_laboral</th>\n",
       "    </tr>\n",
       "  </thead>\n",
       "  <tbody>\n",
       "    <tr>\n",
       "      <th>2</th>\n",
       "      <td>22</td>\n",
       "      <td>GOBIERNOS DEPARTAMENTALES</td>\n",
       "      <td>8</td>\n",
       "      <td>VIII DEPARTAMENTO: GOBERNACION DE MISIONES</td>\n",
       "      <td>1</td>\n",
       "      <td>VIII DEPARTAMENTO: GOBERNACION DE MISIONES</td>\n",
       "      <td>GOBERNADOR</td>\n",
       "      <td>PERMANENTE</td>\n",
       "      <td>A46</td>\n",
       "      <td>GOBERNADOR</td>\n",
       "      <td>2851200</td>\n",
       "      <td>ABOGADO</td>\n",
       "      <td>1</td>\n",
       "    </tr>\n",
       "    <tr>\n",
       "      <th>3</th>\n",
       "      <td>22</td>\n",
       "      <td>GOBIERNOS DEPARTAMENTALES</td>\n",
       "      <td>8</td>\n",
       "      <td>VIII DEPARTAMENTO: GOBERNACION DE MISIONES</td>\n",
       "      <td>1</td>\n",
       "      <td>VIII DEPARTAMENTO: GOBERNACION DE MISIONES</td>\n",
       "      <td>SECRETARIA DE LA MUJER</td>\n",
       "      <td>PERMANENTE</td>\n",
       "      <td>C90</td>\n",
       "      <td>SECRETARIO DEPARTAMENTAL</td>\n",
       "      <td>7425200</td>\n",
       "      <td>UNIVERSITARIO</td>\n",
       "      <td>6</td>\n",
       "    </tr>\n",
       "    <tr>\n",
       "      <th>4</th>\n",
       "      <td>22</td>\n",
       "      <td>GOBIERNOS DEPARTAMENTALES</td>\n",
       "      <td>8</td>\n",
       "      <td>VIII DEPARTAMENTO: GOBERNACION DE MISIONES</td>\n",
       "      <td>1</td>\n",
       "      <td>VIII DEPARTAMENTO: GOBERNACION DE MISIONES</td>\n",
       "      <td>SECRETARIA DE LA MUJER</td>\n",
       "      <td>PERMANENTE</td>\n",
       "      <td>C90</td>\n",
       "      <td>SECRETARIO DEPARTAMENTAL</td>\n",
       "      <td>2500000</td>\n",
       "      <td>UNIVERSITARIO</td>\n",
       "      <td>6</td>\n",
       "    </tr>\n",
       "    <tr>\n",
       "      <th>6</th>\n",
       "      <td>22</td>\n",
       "      <td>GOBIERNOS DEPARTAMENTALES</td>\n",
       "      <td>8</td>\n",
       "      <td>VIII DEPARTAMENTO: GOBERNACION DE MISIONES</td>\n",
       "      <td>1</td>\n",
       "      <td>VIII DEPARTAMENTO: GOBERNACION DE MISIONES</td>\n",
       "      <td>SECRETARIO DE AGRICULTURA</td>\n",
       "      <td>PERMANENTE</td>\n",
       "      <td>C90</td>\n",
       "      <td>SECRETARIO DEPARTAMENTAL</td>\n",
       "      <td>7425200</td>\n",
       "      <td>INGENIERO</td>\n",
       "      <td>6</td>\n",
       "    </tr>\n",
       "    <tr>\n",
       "      <th>7</th>\n",
       "      <td>22</td>\n",
       "      <td>GOBIERNOS DEPARTAMENTALES</td>\n",
       "      <td>8</td>\n",
       "      <td>VIII DEPARTAMENTO: GOBERNACION DE MISIONES</td>\n",
       "      <td>1</td>\n",
       "      <td>VIII DEPARTAMENTO: GOBERNACION DE MISIONES</td>\n",
       "      <td>SECRETARIO DE AGRICULTURA</td>\n",
       "      <td>PERMANENTE</td>\n",
       "      <td>C90</td>\n",
       "      <td>SECRETARIO DEPARTAMENTAL</td>\n",
       "      <td>2500000</td>\n",
       "      <td>INGENIERO</td>\n",
       "      <td>6</td>\n",
       "    </tr>\n",
       "  </tbody>\n",
       "</table>\n",
       "</div>"
      ],
      "text/plain": [
       "   nivel          descripcion_nivel  entidad  \\\n",
       "2     22  GOBIERNOS DEPARTAMENTALES        8   \n",
       "3     22  GOBIERNOS DEPARTAMENTALES        8   \n",
       "4     22  GOBIERNOS DEPARTAMENTALES        8   \n",
       "6     22  GOBIERNOS DEPARTAMENTALES        8   \n",
       "7     22  GOBIERNOS DEPARTAMENTALES        8   \n",
       "\n",
       "                          descripcion_entidad  oee  \\\n",
       "2  VIII DEPARTAMENTO: GOBERNACION DE MISIONES    1   \n",
       "3  VIII DEPARTAMENTO: GOBERNACION DE MISIONES    1   \n",
       "4  VIII DEPARTAMENTO: GOBERNACION DE MISIONES    1   \n",
       "6  VIII DEPARTAMENTO: GOBERNACION DE MISIONES    1   \n",
       "7  VIII DEPARTAMENTO: GOBERNACION DE MISIONES    1   \n",
       "\n",
       "                              descripcion_oee                    funcion  \\\n",
       "2  VIII DEPARTAMENTO: GOBERNACION DE MISIONES                 GOBERNADOR   \n",
       "3  VIII DEPARTAMENTO: GOBERNACION DE MISIONES     SECRETARIA DE LA MUJER   \n",
       "4  VIII DEPARTAMENTO: GOBERNACION DE MISIONES     SECRETARIA DE LA MUJER   \n",
       "6  VIII DEPARTAMENTO: GOBERNACION DE MISIONES  SECRETARIO DE AGRICULTURA   \n",
       "7  VIII DEPARTAMENTO: GOBERNACION DE MISIONES  SECRETARIO DE AGRICULTURA   \n",
       "\n",
       "       estado categoria                     cargo  presupuestado  \\\n",
       "2  PERMANENTE       A46                GOBERNADOR        2851200   \n",
       "3  PERMANENTE       C90  SECRETARIO DEPARTAMENTAL        7425200   \n",
       "4  PERMANENTE       C90  SECRETARIO DEPARTAMENTAL        2500000   \n",
       "6  PERMANENTE       C90  SECRETARIO DEPARTAMENTAL        7425200   \n",
       "7  PERMANENTE       C90  SECRETARIO DEPARTAMENTAL        2500000   \n",
       "\n",
       "       profesion  antiguedad_laboral  \n",
       "2        ABOGADO                   1  \n",
       "3  UNIVERSITARIO                   6  \n",
       "4  UNIVERSITARIO                   6  \n",
       "6      INGENIERO                   6  \n",
       "7      INGENIERO                   6  "
      ]
     },
     "execution_count": 24,
     "metadata": {},
     "output_type": "execute_result"
    }
   ],
   "source": [
    "df_2024_05.head()"
   ]
  },
  {
   "cell_type": "code",
   "execution_count": 25,
   "id": "e72efa10-edfb-423e-bf46-43b78cb49f39",
   "metadata": {},
   "outputs": [
    {
     "data": {
      "text/plain": [
       "nivel                   int64\n",
       "descripcion_nivel      object\n",
       "entidad                 int64\n",
       "descripcion_entidad    object\n",
       "oee                     int64\n",
       "descripcion_oee        object\n",
       "funcion                object\n",
       "estado                 object\n",
       "categoria              object\n",
       "cargo                  object\n",
       "presupuestado           int64\n",
       "profesion              object\n",
       "antiguedad_laboral      int64\n",
       "dtype: object"
      ]
     },
     "execution_count": 25,
     "metadata": {},
     "output_type": "execute_result"
    }
   ],
   "source": [
    "df_2024_05.dtypes"
   ]
  },
  {
   "cell_type": "code",
   "execution_count": 26,
   "id": "bcf21e68-68ba-43e5-bff1-e15c13f312de",
   "metadata": {},
   "outputs": [],
   "source": [
    "list_var_categoricas = ['descripcion_nivel', 'descripcion_entidad', 'descripcion_oee', 'cargo', 'funcion', 'estado', 'categoria', 'profesion', 'nivel', 'entidad', 'oee']\n",
    "\n",
    "df_2024_05[list_var_categoricas] = df_2024_05[list_var_categoricas].astype(str)"
   ]
  },
  {
   "cell_type": "code",
   "execution_count": 27,
   "id": "14f71728-f3c4-4e35-a5f1-e56626fbf625",
   "metadata": {},
   "outputs": [
    {
     "data": {
      "text/html": [
       "<div>\n",
       "<style scoped>\n",
       "    .dataframe tbody tr th:only-of-type {\n",
       "        vertical-align: middle;\n",
       "    }\n",
       "\n",
       "    .dataframe tbody tr th {\n",
       "        vertical-align: top;\n",
       "    }\n",
       "\n",
       "    .dataframe thead th {\n",
       "        text-align: right;\n",
       "    }\n",
       "</style>\n",
       "<table border=\"1\" class=\"dataframe\">\n",
       "  <thead>\n",
       "    <tr style=\"text-align: right;\">\n",
       "      <th></th>\n",
       "      <th>descripcion_nivel</th>\n",
       "      <th>descripcion_entidad</th>\n",
       "      <th>descripcion_oee</th>\n",
       "      <th>cargo</th>\n",
       "      <th>funcion</th>\n",
       "      <th>estado</th>\n",
       "      <th>categoria</th>\n",
       "      <th>profesion</th>\n",
       "      <th>nivel</th>\n",
       "      <th>entidad</th>\n",
       "      <th>oee</th>\n",
       "    </tr>\n",
       "  </thead>\n",
       "  <tbody>\n",
       "    <tr>\n",
       "      <th>2</th>\n",
       "      <td>4094</td>\n",
       "      <td>185</td>\n",
       "      <td>185</td>\n",
       "      <td>35</td>\n",
       "      <td>34</td>\n",
       "      <td>833761</td>\n",
       "      <td>257</td>\n",
       "      <td>28094</td>\n",
       "      <td>4094</td>\n",
       "      <td>124165</td>\n",
       "      <td>769148</td>\n",
       "    </tr>\n",
       "    <tr>\n",
       "      <th>3</th>\n",
       "      <td>4094</td>\n",
       "      <td>185</td>\n",
       "      <td>185</td>\n",
       "      <td>253</td>\n",
       "      <td>21</td>\n",
       "      <td>833761</td>\n",
       "      <td>276</td>\n",
       "      <td>12746</td>\n",
       "      <td>4094</td>\n",
       "      <td>124165</td>\n",
       "      <td>769148</td>\n",
       "    </tr>\n",
       "    <tr>\n",
       "      <th>4</th>\n",
       "      <td>4094</td>\n",
       "      <td>185</td>\n",
       "      <td>185</td>\n",
       "      <td>253</td>\n",
       "      <td>21</td>\n",
       "      <td>833761</td>\n",
       "      <td>276</td>\n",
       "      <td>12746</td>\n",
       "      <td>4094</td>\n",
       "      <td>124165</td>\n",
       "      <td>769148</td>\n",
       "    </tr>\n",
       "    <tr>\n",
       "      <th>6</th>\n",
       "      <td>4094</td>\n",
       "      <td>185</td>\n",
       "      <td>185</td>\n",
       "      <td>253</td>\n",
       "      <td>18</td>\n",
       "      <td>833761</td>\n",
       "      <td>276</td>\n",
       "      <td>3761</td>\n",
       "      <td>4094</td>\n",
       "      <td>124165</td>\n",
       "      <td>769148</td>\n",
       "    </tr>\n",
       "    <tr>\n",
       "      <th>7</th>\n",
       "      <td>4094</td>\n",
       "      <td>185</td>\n",
       "      <td>185</td>\n",
       "      <td>253</td>\n",
       "      <td>18</td>\n",
       "      <td>833761</td>\n",
       "      <td>276</td>\n",
       "      <td>3761</td>\n",
       "      <td>4094</td>\n",
       "      <td>124165</td>\n",
       "      <td>769148</td>\n",
       "    </tr>\n",
       "  </tbody>\n",
       "</table>\n",
       "</div>"
      ],
      "text/plain": [
       "   descripcion_nivel  descripcion_entidad  descripcion_oee  cargo  funcion  \\\n",
       "2               4094                  185              185     35       34   \n",
       "3               4094                  185              185    253       21   \n",
       "4               4094                  185              185    253       21   \n",
       "6               4094                  185              185    253       18   \n",
       "7               4094                  185              185    253       18   \n",
       "\n",
       "   estado  categoria  profesion  nivel  entidad     oee  \n",
       "2  833761        257      28094   4094   124165  769148  \n",
       "3  833761        276      12746   4094   124165  769148  \n",
       "4  833761        276      12746   4094   124165  769148  \n",
       "6  833761        276       3761   4094   124165  769148  \n",
       "7  833761        276       3761   4094   124165  769148  "
      ]
     },
     "execution_count": 27,
     "metadata": {},
     "output_type": "execute_result"
    }
   ],
   "source": [
    "df_2024_05_copy = df_2024_05.copy()\n",
    "\n",
    "countencoder = CountEncoder(cols=list_var_categoricas, handle_missing='n/a')\n",
    "\n",
    "df_countencoder_var_no_numericas = countencoder.fit_transform(df_2024_05[list_var_categoricas])\n",
    "df_2024_05_copy[list_var_categoricas] = df_countencoder_var_no_numericas\n",
    "df_2024_05_copy[list_var_categoricas].head()"
   ]
  },
  {
   "cell_type": "markdown",
   "id": "b5fed072-4420-4e56-9124-e4dfb78e2a6d",
   "metadata": {},
   "source": [
    "Elimino variables que tengan entre si una correlacion absoluta mayor a 0.80"
   ]
  },
  {
   "cell_type": "code",
   "execution_count": 28,
   "id": "7c45cf95-77a7-4f82-908a-55d5d8b82293",
   "metadata": {
    "scrolled": true
   },
   "outputs": [
    {
     "data": {
      "text/plain": [
       "<Axes: >"
      ]
     },
     "execution_count": 28,
     "metadata": {},
     "output_type": "execute_result"
    },
    {
     "data": {
      "image/png": "[encoded data removed]",
      "text/plain": [
       "<Figure size 1500x800 with 2 Axes>"
      ]
     },
     "metadata": {},
     "output_type": "display_data"
    }
   ],
   "source": [
    "df_not_target = df_2024_05_copy.drop(target, axis=1)\n",
    "df_corr = df_not_target.corr()\n",
    "plt.figure(figsize=(15,8))\n",
    "sns.heatmap(df_corr, annot=True, cmap='Blues')"
   ]
  },
  {
   "cell_type": "code",
   "execution_count": 29,
   "id": "5090803c-ac80-4477-a1b5-c46079907571",
   "metadata": {},
   "outputs": [
    {
     "data": {
      "text/plain": [
       "nivel                1.0\n",
       "descripcion_nivel    1.0\n",
       "Name: nivel, dtype: float64"
      ]
     },
     "execution_count": 29,
     "metadata": {},
     "output_type": "execute_result"
    }
   ],
   "source": [
    "df_corr.nivel[df_corr.nivel > 0.80]"
   ]
  },
  {
   "cell_type": "code",
   "execution_count": 30,
   "id": "563a0267-98fc-4921-a7ea-57060da90f59",
   "metadata": {},
   "outputs": [
    {
     "data": {
      "text/plain": [
       "nivel                1.0\n",
       "descripcion_nivel    1.0\n",
       "Name: descripcion_nivel, dtype: float64"
      ]
     },
     "execution_count": 30,
     "metadata": {},
     "output_type": "execute_result"
    }
   ],
   "source": [
    "df_corr.descripcion_nivel[df_corr.descripcion_nivel > 0.80]"
   ]
  },
  {
   "cell_type": "code",
   "execution_count": 31,
   "id": "7ab275b2-4d58-45ba-addf-41780fb53b82",
   "metadata": {},
   "outputs": [
    {
     "data": {
      "text/plain": [
       "entidad                1.000000\n",
       "descripcion_entidad    0.910213\n",
       "descripcion_oee        0.904871\n",
       "Name: entidad, dtype: float64"
      ]
     },
     "execution_count": 31,
     "metadata": {},
     "output_type": "execute_result"
    }
   ],
   "source": [
    "df_corr.entidad[df_corr.entidad > 0.80]"
   ]
  },
  {
   "cell_type": "code",
   "execution_count": 32,
   "id": "9f26f623-bcc0-4bb9-a91c-b6c743b9ad68",
   "metadata": {},
   "outputs": [
    {
     "data": {
      "text/plain": [
       "entidad                0.910213\n",
       "descripcion_entidad    1.000000\n",
       "descripcion_oee        0.999136\n",
       "Name: descripcion_entidad, dtype: float64"
      ]
     },
     "execution_count": 32,
     "metadata": {},
     "output_type": "execute_result"
    }
   ],
   "source": [
    "df_corr.descripcion_entidad[df_corr.descripcion_entidad > 0.80]"
   ]
  },
  {
   "cell_type": "code",
   "execution_count": 33,
   "id": "bafe89b5-b4f4-43b9-a569-0ed85685245c",
   "metadata": {},
   "outputs": [
    {
     "data": {
      "text/plain": [
       "entidad                0.904871\n",
       "descripcion_entidad    0.999136\n",
       "descripcion_oee        1.000000\n",
       "Name: descripcion_oee, dtype: float64"
      ]
     },
     "execution_count": 33,
     "metadata": {},
     "output_type": "execute_result"
    }
   ],
   "source": [
    "df_corr.descripcion_oee[df_corr.descripcion_oee > 0.80]"
   ]
  },
  {
   "cell_type": "code",
   "execution_count": 34,
   "id": "646c9416-3608-47de-b0da-5492fdca25c8",
   "metadata": {},
   "outputs": [
    {
     "data": {
      "text/plain": [
       "funcion    0.906608\n",
       "cargo      1.000000\n",
       "Name: cargo, dtype: float64"
      ]
     },
     "execution_count": 34,
     "metadata": {},
     "output_type": "execute_result"
    }
   ],
   "source": [
    "df_corr.cargo[df_corr.cargo > 0.80]"
   ]
  },
  {
   "cell_type": "code",
   "execution_count": 35,
   "id": "1c65b956-473b-4e3e-9683-673f095cfb0c",
   "metadata": {},
   "outputs": [
    {
     "data": {
      "text/plain": [
       "funcion    1.000000\n",
       "cargo      0.906608\n",
       "Name: funcion, dtype: float64"
      ]
     },
     "execution_count": 35,
     "metadata": {},
     "output_type": "execute_result"
    }
   ],
   "source": [
    "df_corr.funcion[df_corr.funcion > 0.80]"
   ]
  },
  {
   "cell_type": "code",
   "execution_count": 36,
   "id": "97237cdb-7326-4ae8-86b7-3ea84a09b22a",
   "metadata": {},
   "outputs": [
    {
     "data": {
      "text/plain": [
       "categoria    1.0\n",
       "Name: categoria, dtype: float64"
      ]
     },
     "execution_count": 36,
     "metadata": {},
     "output_type": "execute_result"
    }
   ],
   "source": [
    "df_corr.categoria[df_corr.categoria > 0.80]"
   ]
  },
  {
   "cell_type": "code",
   "execution_count": 37,
   "id": "ae067627-6afc-442f-bfe7-c3d92b7111de",
   "metadata": {},
   "outputs": [
    {
     "data": {
      "text/plain": [
       "profesion    1.0\n",
       "Name: profesion, dtype: float64"
      ]
     },
     "execution_count": 37,
     "metadata": {},
     "output_type": "execute_result"
    }
   ],
   "source": [
    "df_corr.profesion[df_corr.profesion > 0.80]"
   ]
  },
  {
   "cell_type": "code",
   "execution_count": 38,
   "id": "faf4d98f-7ff5-43cc-971f-83403f5928e7",
   "metadata": {},
   "outputs": [
    {
     "data": {
      "text/plain": [
       "antiguedad_laboral    1.0\n",
       "Name: antiguedad_laboral, dtype: float64"
      ]
     },
     "execution_count": 38,
     "metadata": {},
     "output_type": "execute_result"
    }
   ],
   "source": [
    "df_corr.antiguedad_laboral[df_corr.antiguedad_laboral > 0.80]"
   ]
  },
  {
   "cell_type": "code",
   "execution_count": 39,
   "id": "8d76edf1-ccb9-4ebd-a7a2-d7f5cbc63742",
   "metadata": {},
   "outputs": [
    {
     "data": {
      "text/plain": [
       "oee    1.0\n",
       "Name: oee, dtype: float64"
      ]
     },
     "execution_count": 39,
     "metadata": {},
     "output_type": "execute_result"
    }
   ],
   "source": [
    "df_corr.oee[df_corr.oee > 0.80]"
   ]
  },
  {
   "cell_type": "markdown",
   "id": "60c23181-9364-44c8-b44f-5ef05aa45076",
   "metadata": {},
   "source": [
    "Respecto a la oee:  en este nivel la Secretaría de la Función Pública asocia a las Municipalidades y Universidades una codificación distinta al Presupuesto General de la Nación. Las municipalidades en este nivel tienen asignados el número dentro de su departamento correspondiente. La Universidad Nacional en este nivel se desglosa en las diferentes facultades y/o instituciones dependientes de ella. \n",
    "\n",
    "Por tanto la oee tiene la misma información que la descripción oee (esta ultima es redundante al comparar con la descripcion de la entidad)."
   ]
  },
  {
   "cell_type": "code",
   "execution_count": 40,
   "id": "2bd388a2-32f1-4dc9-9864-66e9ddc765bb",
   "metadata": {},
   "outputs": [
    {
     "data": {
      "text/plain": [
       "oee\n",
       "1      769148\n",
       "2      109666\n",
       "8       15789\n",
       "4        3582\n",
       "12       3442\n",
       "        ...  \n",
       "49         28\n",
       "524        26\n",
       "38         25\n",
       "263        23\n",
       "259         1\n",
       "Name: count, Length: 239, dtype: int64"
      ]
     },
     "execution_count": 40,
     "metadata": {},
     "output_type": "execute_result"
    }
   ],
   "source": [
    "df_2024_05[\"oee\"].value_counts()"
   ]
  },
  {
   "cell_type": "code",
   "execution_count": 41,
   "id": "7b7ef668-ce97-423c-ac6b-84273ebab0ce",
   "metadata": {},
   "outputs": [
    {
     "data": {
      "text/plain": [
       "descripcion_oee\n",
       "MINISTERIO DE EDUCACION Y CIENCIAS (MEC)                        338183\n",
       "MINISTERIO DE SALUD PUBLICA Y BIENESTAR SOCIAL (MSPBS)          122633\n",
       "POLICIA NACIONAL (PN)                                           104028\n",
       "INSTITUTO DE PREVISION SOCIAL (IPS)                              76715\n",
       "ADMINISTRACION NACIONAL DE ELECTRICIDAD (ANDE)                   50505\n",
       "                                                                 ...  \n",
       "MUNICIPALIDAD DE ITACUA                                             23\n",
       "INSTITUTO NACIONAL DEL AUDIOVISUAL PARAGUAYO                        19\n",
       "CAJA DE SEGURIDAD SOCIAL DE EMPLEADOS Y OBREROS FERROVIARIOS        18\n",
       "CAJA DE PRESTAMOS DEL MINISTERIO DE DEFENSA NACIONAL (CPMDN)        11\n",
       "MUNICIPALIDAD DE CERRO CORÁ                                          1\n",
       "Name: count, Length: 382, dtype: int64"
      ]
     },
     "execution_count": 41,
     "metadata": {},
     "output_type": "execute_result"
    }
   ],
   "source": [
    "df_2024_05[\"descripcion_oee\"].value_counts()"
   ]
  },
  {
   "cell_type": "code",
   "execution_count": 42,
   "id": "98f0627c-3dab-4bdf-a86e-919c55bba4c3",
   "metadata": {},
   "outputs": [
    {
     "data": {
      "text/plain": [
       "descripcion_entidad\n",
       "MINISTERIO DE EDUCACION Y CULTURA                               338183\n",
       "MINISTERIO DE SALUD PUBLICA Y BIENESTAR SOCIAL                  122633\n",
       "MINISTERIO DEL INTERIOR                                         104533\n",
       "INSTITUTO DE PREVISION SOCIAL                                    76715\n",
       "ADMINISTRACION NACIONAL DE ELECTRICIDAD                          50505\n",
       "                                                                 ...  \n",
       "MECANISMO NACIONAL DE PREVENSIÓN CONTRA LA TORTURA                  51\n",
       "DIRECCIÓN NACIONAL DE DEFENSA, SALUD Y BIENESTAR ANIMAL             37\n",
       "INSTITUTO NACIONAL DEL AUDIOVISUAL  PARAGUAYO                       19\n",
       "CAJA DE SEGURIDAD SOCIAL DE EMPLEADOS Y OBREROS FERROVIARIOS        18\n",
       "CAJA DE PRESTAMOS DEL MINISTERIO DE DEFENSA NACIONAL                11\n",
       "Name: count, Length: 121, dtype: int64"
      ]
     },
     "execution_count": 42,
     "metadata": {},
     "output_type": "execute_result"
    }
   ],
   "source": [
    "df_2024_05[\"descripcion_entidad\"].value_counts()"
   ]
  },
  {
   "cell_type": "markdown",
   "id": "ef3ab12e-37c1-4b4b-a9d6-c7b61106c0cc",
   "metadata": {},
   "source": [
    "Las caracteristicas a utilizar son:"
   ]
  },
  {
   "cell_type": "code",
   "execution_count": 43,
   "id": "3934981f-1c0c-41ea-a91a-7f4ed9a03ad6",
   "metadata": {},
   "outputs": [
    {
     "data": {
      "text/html": [
       "<div>\n",
       "<style scoped>\n",
       "    .dataframe tbody tr th:only-of-type {\n",
       "        vertical-align: middle;\n",
       "    }\n",
       "\n",
       "    .dataframe tbody tr th {\n",
       "        vertical-align: top;\n",
       "    }\n",
       "\n",
       "    .dataframe thead th {\n",
       "        text-align: right;\n",
       "    }\n",
       "</style>\n",
       "<table border=\"1\" class=\"dataframe\">\n",
       "  <thead>\n",
       "    <tr style=\"text-align: right;\">\n",
       "      <th></th>\n",
       "      <th>estado</th>\n",
       "      <th>categoria</th>\n",
       "      <th>profesion</th>\n",
       "      <th>antiguedad_laboral</th>\n",
       "      <th>presupuestado</th>\n",
       "    </tr>\n",
       "  </thead>\n",
       "  <tbody>\n",
       "    <tr>\n",
       "      <th>2</th>\n",
       "      <td>PERMANENTE</td>\n",
       "      <td>A46</td>\n",
       "      <td>ABOGADO</td>\n",
       "      <td>1</td>\n",
       "      <td>2851200</td>\n",
       "    </tr>\n",
       "    <tr>\n",
       "      <th>3</th>\n",
       "      <td>PERMANENTE</td>\n",
       "      <td>C90</td>\n",
       "      <td>UNIVERSITARIO</td>\n",
       "      <td>6</td>\n",
       "      <td>7425200</td>\n",
       "    </tr>\n",
       "    <tr>\n",
       "      <th>4</th>\n",
       "      <td>PERMANENTE</td>\n",
       "      <td>C90</td>\n",
       "      <td>UNIVERSITARIO</td>\n",
       "      <td>6</td>\n",
       "      <td>2500000</td>\n",
       "    </tr>\n",
       "    <tr>\n",
       "      <th>6</th>\n",
       "      <td>PERMANENTE</td>\n",
       "      <td>C90</td>\n",
       "      <td>INGENIERO</td>\n",
       "      <td>6</td>\n",
       "      <td>7425200</td>\n",
       "    </tr>\n",
       "    <tr>\n",
       "      <th>7</th>\n",
       "      <td>PERMANENTE</td>\n",
       "      <td>C90</td>\n",
       "      <td>INGENIERO</td>\n",
       "      <td>6</td>\n",
       "      <td>2500000</td>\n",
       "    </tr>\n",
       "    <tr>\n",
       "      <th>...</th>\n",
       "      <td>...</td>\n",
       "      <td>...</td>\n",
       "      <td>...</td>\n",
       "      <td>...</td>\n",
       "      <td>...</td>\n",
       "    </tr>\n",
       "    <tr>\n",
       "      <th>992218</th>\n",
       "      <td>PERMANENTE</td>\n",
       "      <td>A12</td>\n",
       "      <td>BACHILLERATO</td>\n",
       "      <td>12</td>\n",
       "      <td>137350</td>\n",
       "    </tr>\n",
       "    <tr>\n",
       "      <th>992219</th>\n",
       "      <td>PERMANENTE</td>\n",
       "      <td>A12</td>\n",
       "      <td>BACHILLERATO</td>\n",
       "      <td>12</td>\n",
       "      <td>3645810</td>\n",
       "    </tr>\n",
       "    <tr>\n",
       "      <th>992220</th>\n",
       "      <td>PERMANENTE</td>\n",
       "      <td>A12</td>\n",
       "      <td>BACHILLERATO</td>\n",
       "      <td>12</td>\n",
       "      <td>245198</td>\n",
       "    </tr>\n",
       "    <tr>\n",
       "      <th>992221</th>\n",
       "      <td>PERMANENTE</td>\n",
       "      <td>A12</td>\n",
       "      <td>BACHILLERATO</td>\n",
       "      <td>12</td>\n",
       "      <td>270060</td>\n",
       "    </tr>\n",
       "    <tr>\n",
       "      <th>992222</th>\n",
       "      <td>PERMANENTE</td>\n",
       "      <td>A12</td>\n",
       "      <td>BACHILLERATO</td>\n",
       "      <td>12</td>\n",
       "      <td>135030</td>\n",
       "    </tr>\n",
       "  </tbody>\n",
       "</table>\n",
       "<p>954980 rows × 5 columns</p>\n",
       "</div>"
      ],
      "text/plain": [
       "            estado categoria      profesion  antiguedad_laboral  presupuestado\n",
       "2       PERMANENTE       A46        ABOGADO                   1        2851200\n",
       "3       PERMANENTE       C90  UNIVERSITARIO                   6        7425200\n",
       "4       PERMANENTE       C90  UNIVERSITARIO                   6        2500000\n",
       "6       PERMANENTE       C90      INGENIERO                   6        7425200\n",
       "7       PERMANENTE       C90      INGENIERO                   6        2500000\n",
       "...            ...       ...            ...                 ...            ...\n",
       "992218  PERMANENTE       A12   BACHILLERATO                  12         137350\n",
       "992219  PERMANENTE       A12   BACHILLERATO                  12        3645810\n",
       "992220  PERMANENTE       A12   BACHILLERATO                  12         245198\n",
       "992221  PERMANENTE       A12   BACHILLERATO                  12         270060\n",
       "992222  PERMANENTE       A12   BACHILLERATO                  12         135030\n",
       "\n",
       "[954980 rows x 5 columns]"
      ]
     },
     "execution_count": 43,
     "metadata": {},
     "output_type": "execute_result"
    }
   ],
   "source": [
    "features = ['estado', 'categoria', 'profesion', 'antiguedad_laboral'] #'nivel', 'entidad', 'cargo',\n",
    "df_2024_05 = df_2024_05[features + [target]]\n",
    "df_2024_05"
   ]
  },
  {
   "cell_type": "code",
   "execution_count": 44,
   "id": "722a019b-919a-4842-b55b-5923fa5590cf",
   "metadata": {},
   "outputs": [],
   "source": [
    "!rm -rf ../processed\n",
    "!mkdir ../processed\n",
    "df_2024_05.to_csv('../processed/funcionarios_2024_5_clean.csv')"
   ]
  },
  {
   "cell_type": "markdown",
   "id": "1e965f30-5456-46e9-ae8d-9d42688071e4",
   "metadata": {},
   "source": [
    "Cardinalidad de las caracteristicas"
   ]
  },
  {
   "cell_type": "code",
   "execution_count": 45,
   "id": "009e8388-4994-4715-afc1-e05044340365",
   "metadata": {},
   "outputs": [
    {
     "data": {
      "text/plain": [
       "estado                    3\n",
       "categoria              2699\n",
       "profesion              6321\n",
       "antiguedad_laboral       51\n",
       "presupuestado         63087\n",
       "dtype: int64"
      ]
     },
     "execution_count": 45,
     "metadata": {},
     "output_type": "execute_result"
    }
   ],
   "source": [
    "df_2024_05.nunique()"
   ]
  },
  {
   "cell_type": "code",
   "execution_count": 46,
   "id": "dd3b2821-8c9e-4584-884d-6462fa240add",
   "metadata": {},
   "outputs": [
    {
     "data": {
      "text/html": [
       "<div>\n",
       "<style scoped>\n",
       "    .dataframe tbody tr th:only-of-type {\n",
       "        vertical-align: middle;\n",
       "    }\n",
       "\n",
       "    .dataframe tbody tr th {\n",
       "        vertical-align: top;\n",
       "    }\n",
       "\n",
       "    .dataframe thead th {\n",
       "        text-align: right;\n",
       "    }\n",
       "</style>\n",
       "<table border=\"1\" class=\"dataframe\">\n",
       "  <thead>\n",
       "    <tr style=\"text-align: right;\">\n",
       "      <th></th>\n",
       "      <th>count</th>\n",
       "      <th>mean</th>\n",
       "      <th>std</th>\n",
       "      <th>min</th>\n",
       "      <th>25%</th>\n",
       "      <th>50%</th>\n",
       "      <th>75%</th>\n",
       "      <th>max</th>\n",
       "    </tr>\n",
       "  </thead>\n",
       "  <tbody>\n",
       "    <tr>\n",
       "      <th>antiguedad_laboral</th>\n",
       "      <td>954980.0</td>\n",
       "      <td>1.515385e+01</td>\n",
       "      <td>9.117116e+00</td>\n",
       "      <td>0.0</td>\n",
       "      <td>8.0</td>\n",
       "      <td>15.0</td>\n",
       "      <td>21.0</td>\n",
       "      <td>50.0</td>\n",
       "    </tr>\n",
       "    <tr>\n",
       "      <th>presupuestado</th>\n",
       "      <td>954980.0</td>\n",
       "      <td>2.196038e+06</td>\n",
       "      <td>2.615208e+06</td>\n",
       "      <td>335.0</td>\n",
       "      <td>500000.0</td>\n",
       "      <td>1191515.5</td>\n",
       "      <td>3632977.0</td>\n",
       "      <td>220000000.0</td>\n",
       "    </tr>\n",
       "  </tbody>\n",
       "</table>\n",
       "</div>"
      ],
      "text/plain": [
       "                       count          mean           std    min       25%  \\\n",
       "antiguedad_laboral  954980.0  1.515385e+01  9.117116e+00    0.0       8.0   \n",
       "presupuestado       954980.0  2.196038e+06  2.615208e+06  335.0  500000.0   \n",
       "\n",
       "                          50%        75%          max  \n",
       "antiguedad_laboral       15.0       21.0         50.0  \n",
       "presupuestado       1191515.5  3632977.0  220000000.0  "
      ]
     },
     "execution_count": 46,
     "metadata": {},
     "output_type": "execute_result"
    }
   ],
   "source": [
    "df_2024_05.describe().T"
   ]
  },
  {
   "cell_type": "code",
   "execution_count": 47,
   "id": "ea2b6385-bc86-4dca-8ed7-a0c5d75c23d9",
   "metadata": {},
   "outputs": [
    {
     "data": {
      "text/html": [
       "<div>\n",
       "<style scoped>\n",
       "    .dataframe tbody tr th:only-of-type {\n",
       "        vertical-align: middle;\n",
       "    }\n",
       "\n",
       "    .dataframe tbody tr th {\n",
       "        vertical-align: top;\n",
       "    }\n",
       "\n",
       "    .dataframe thead th {\n",
       "        text-align: right;\n",
       "    }\n",
       "</style>\n",
       "<table border=\"1\" class=\"dataframe\">\n",
       "  <thead>\n",
       "    <tr style=\"text-align: right;\">\n",
       "      <th></th>\n",
       "      <th>count</th>\n",
       "      <th>unique</th>\n",
       "      <th>top</th>\n",
       "      <th>freq</th>\n",
       "    </tr>\n",
       "  </thead>\n",
       "  <tbody>\n",
       "    <tr>\n",
       "      <th>estado</th>\n",
       "      <td>954980</td>\n",
       "      <td>3</td>\n",
       "      <td>PERMANENTE</td>\n",
       "      <td>833761</td>\n",
       "    </tr>\n",
       "    <tr>\n",
       "      <th>categoria</th>\n",
       "      <td>954980</td>\n",
       "      <td>2699</td>\n",
       "      <td>SIN CATEGORÍA</td>\n",
       "      <td>152382</td>\n",
       "    </tr>\n",
       "    <tr>\n",
       "      <th>profesion</th>\n",
       "      <td>954980</td>\n",
       "      <td>6321</td>\n",
       "      <td>PROFESOR</td>\n",
       "      <td>215704</td>\n",
       "    </tr>\n",
       "  </tbody>\n",
       "</table>\n",
       "</div>"
      ],
      "text/plain": [
       "            count unique            top    freq\n",
       "estado     954980      3     PERMANENTE  833761\n",
       "categoria  954980   2699  SIN CATEGORÍA  152382\n",
       "profesion  954980   6321       PROFESOR  215704"
      ]
     },
     "execution_count": 47,
     "metadata": {},
     "output_type": "execute_result"
    }
   ],
   "source": [
    "df_2024_05.describe(include=[object]).T"
   ]
  },
  {
   "cell_type": "code",
   "execution_count": 48,
   "id": "59b4dd0b-67a4-44bb-99a2-00830f15a2ec",
   "metadata": {},
   "outputs": [
    {
     "name": "stdout",
     "output_type": "stream",
     "text": [
      "<class 'pandas.core.frame.DataFrame'>\n",
      "Index: 954980 entries, 2 to 992222\n",
      "Data columns (total 5 columns):\n",
      " #   Column              Non-Null Count   Dtype \n",
      "---  ------              --------------   ----- \n",
      " 0   estado              954980 non-null  object\n",
      " 1   categoria           954980 non-null  object\n",
      " 2   profesion           954980 non-null  object\n",
      " 3   antiguedad_laboral  954980 non-null  int64 \n",
      " 4   presupuestado       954980 non-null  int64 \n",
      "dtypes: int64(2), object(3)\n",
      "memory usage: 43.7+ MB\n"
     ]
    }
   ],
   "source": [
    "df_2024_05.info()"
   ]
  },
  {
   "cell_type": "code",
   "execution_count": 49,
   "id": "09a29a74-25c8-42f3-9a74-c5841829420c",
   "metadata": {},
   "outputs": [],
   "source": [
    "features_categorica = ['estado','categoria', 'profesion']  #['nivel', 'entidad', 'cargo', , , ] \n",
    "features_numeric = ['antiguedad_laboral']"
   ]
  },
  {
   "cell_type": "code",
   "execution_count": 50,
   "id": "81fb4af8-c465-40d5-a6db-ac9a1b1a69e8",
   "metadata": {},
   "outputs": [
    {
     "data": {
      "text/html": [
       "<div>\n",
       "<style scoped>\n",
       "    .dataframe tbody tr th:only-of-type {\n",
       "        vertical-align: middle;\n",
       "    }\n",
       "\n",
       "    .dataframe tbody tr th {\n",
       "        vertical-align: top;\n",
       "    }\n",
       "\n",
       "    .dataframe thead th {\n",
       "        text-align: right;\n",
       "    }\n",
       "</style>\n",
       "<table border=\"1\" class=\"dataframe\">\n",
       "  <thead>\n",
       "    <tr style=\"text-align: right;\">\n",
       "      <th></th>\n",
       "      <th>estado</th>\n",
       "      <th>categoria</th>\n",
       "      <th>profesion</th>\n",
       "      <th>antiguedad_laboral</th>\n",
       "    </tr>\n",
       "  </thead>\n",
       "  <tbody>\n",
       "    <tr>\n",
       "      <th>2</th>\n",
       "      <td>2.196038e+06</td>\n",
       "      <td>2.196038e+06</td>\n",
       "      <td>2.196038e+06</td>\n",
       "      <td>1</td>\n",
       "    </tr>\n",
       "    <tr>\n",
       "      <th>3</th>\n",
       "      <td>2.523619e+06</td>\n",
       "      <td>2.196038e+06</td>\n",
       "      <td>2.196038e+06</td>\n",
       "      <td>6</td>\n",
       "    </tr>\n",
       "    <tr>\n",
       "      <th>4</th>\n",
       "      <td>4.157479e+06</td>\n",
       "      <td>4.810619e+06</td>\n",
       "      <td>4.810619e+06</td>\n",
       "      <td>6</td>\n",
       "    </tr>\n",
       "    <tr>\n",
       "      <th>6</th>\n",
       "      <td>3.743110e+06</td>\n",
       "      <td>4.040413e+06</td>\n",
       "      <td>2.196038e+06</td>\n",
       "      <td>6</td>\n",
       "    </tr>\n",
       "    <tr>\n",
       "      <th>7</th>\n",
       "      <td>4.479528e+06</td>\n",
       "      <td>4.886610e+06</td>\n",
       "      <td>4.810619e+06</td>\n",
       "      <td>6</td>\n",
       "    </tr>\n",
       "    <tr>\n",
       "      <th>...</th>\n",
       "      <td>...</td>\n",
       "      <td>...</td>\n",
       "      <td>...</td>\n",
       "      <td>...</td>\n",
       "    </tr>\n",
       "    <tr>\n",
       "      <th>992218</th>\n",
       "      <td>2.122819e+06</td>\n",
       "      <td>9.128731e+05</td>\n",
       "      <td>1.384006e+06</td>\n",
       "      <td>12</td>\n",
       "    </tr>\n",
       "    <tr>\n",
       "      <th>992219</th>\n",
       "      <td>2.122817e+06</td>\n",
       "      <td>9.113760e+05</td>\n",
       "      <td>1.383981e+06</td>\n",
       "      <td>12</td>\n",
       "    </tr>\n",
       "    <tr>\n",
       "      <th>992220</th>\n",
       "      <td>2.122819e+06</td>\n",
       "      <td>9.166447e+05</td>\n",
       "      <td>1.384026e+06</td>\n",
       "      <td>12</td>\n",
       "    </tr>\n",
       "    <tr>\n",
       "      <th>992221</th>\n",
       "      <td>2.122817e+06</td>\n",
       "      <td>9.153534e+05</td>\n",
       "      <td>1.384004e+06</td>\n",
       "      <td>12</td>\n",
       "    </tr>\n",
       "    <tr>\n",
       "      <th>992222</th>\n",
       "      <td>2.122814e+06</td>\n",
       "      <td>9.141148e+05</td>\n",
       "      <td>1.383982e+06</td>\n",
       "      <td>12</td>\n",
       "    </tr>\n",
       "  </tbody>\n",
       "</table>\n",
       "<p>954980 rows × 4 columns</p>\n",
       "</div>"
      ],
      "text/plain": [
       "              estado     categoria     profesion  antiguedad_laboral\n",
       "2       2.196038e+06  2.196038e+06  2.196038e+06                   1\n",
       "3       2.523619e+06  2.196038e+06  2.196038e+06                   6\n",
       "4       4.157479e+06  4.810619e+06  4.810619e+06                   6\n",
       "6       3.743110e+06  4.040413e+06  2.196038e+06                   6\n",
       "7       4.479528e+06  4.886610e+06  4.810619e+06                   6\n",
       "...              ...           ...           ...                 ...\n",
       "992218  2.122819e+06  9.128731e+05  1.384006e+06                  12\n",
       "992219  2.122817e+06  9.113760e+05  1.383981e+06                  12\n",
       "992220  2.122819e+06  9.166447e+05  1.384026e+06                  12\n",
       "992221  2.122817e+06  9.153534e+05  1.384004e+06                  12\n",
       "992222  2.122814e+06  9.141148e+05  1.383982e+06                  12\n",
       "\n",
       "[954980 rows x 4 columns]"
      ]
     },
     "execution_count": 50,
     "metadata": {},
     "output_type": "execute_result"
    }
   ],
   "source": [
    "cat_boost_encoder = CatBoostEncoder(cols=features_categorica)\n",
    "\n",
    "df_2024_05_transformed = cat_boost_encoder.fit_transform(df_2024_05[features], df_2024_05[target])\n",
    "df_2024_05_transformed"
   ]
  },
  {
   "cell_type": "code",
   "execution_count": 51,
   "id": "0fbaf52d-d4e0-437f-91bc-9229c4cfd9ab",
   "metadata": {},
   "outputs": [
    {
     "data": {
      "text/html": [
       "<div>\n",
       "<style scoped>\n",
       "    .dataframe tbody tr th:only-of-type {\n",
       "        vertical-align: middle;\n",
       "    }\n",
       "\n",
       "    .dataframe tbody tr th {\n",
       "        vertical-align: top;\n",
       "    }\n",
       "\n",
       "    .dataframe thead th {\n",
       "        text-align: right;\n",
       "    }\n",
       "</style>\n",
       "<table border=\"1\" class=\"dataframe\">\n",
       "  <thead>\n",
       "    <tr style=\"text-align: right;\">\n",
       "      <th></th>\n",
       "      <th>estado</th>\n",
       "      <th>categoria</th>\n",
       "      <th>profesion</th>\n",
       "      <th>antiguedad_laboral</th>\n",
       "      <th>presupuestado</th>\n",
       "    </tr>\n",
       "  </thead>\n",
       "  <tbody>\n",
       "    <tr>\n",
       "      <th>2</th>\n",
       "      <td>2.196038e+06</td>\n",
       "      <td>2.196038e+06</td>\n",
       "      <td>2.196038e+06</td>\n",
       "      <td>1</td>\n",
       "      <td>2851200</td>\n",
       "    </tr>\n",
       "    <tr>\n",
       "      <th>3</th>\n",
       "      <td>2.523619e+06</td>\n",
       "      <td>2.196038e+06</td>\n",
       "      <td>2.196038e+06</td>\n",
       "      <td>6</td>\n",
       "      <td>7425200</td>\n",
       "    </tr>\n",
       "    <tr>\n",
       "      <th>4</th>\n",
       "      <td>4.157479e+06</td>\n",
       "      <td>4.810619e+06</td>\n",
       "      <td>4.810619e+06</td>\n",
       "      <td>6</td>\n",
       "      <td>2500000</td>\n",
       "    </tr>\n",
       "    <tr>\n",
       "      <th>6</th>\n",
       "      <td>3.743110e+06</td>\n",
       "      <td>4.040413e+06</td>\n",
       "      <td>2.196038e+06</td>\n",
       "      <td>6</td>\n",
       "      <td>7425200</td>\n",
       "    </tr>\n",
       "    <tr>\n",
       "      <th>7</th>\n",
       "      <td>4.479528e+06</td>\n",
       "      <td>4.886610e+06</td>\n",
       "      <td>4.810619e+06</td>\n",
       "      <td>6</td>\n",
       "      <td>2500000</td>\n",
       "    </tr>\n",
       "    <tr>\n",
       "      <th>...</th>\n",
       "      <td>...</td>\n",
       "      <td>...</td>\n",
       "      <td>...</td>\n",
       "      <td>...</td>\n",
       "      <td>...</td>\n",
       "    </tr>\n",
       "    <tr>\n",
       "      <th>992218</th>\n",
       "      <td>2.122819e+06</td>\n",
       "      <td>9.128731e+05</td>\n",
       "      <td>1.384006e+06</td>\n",
       "      <td>12</td>\n",
       "      <td>137350</td>\n",
       "    </tr>\n",
       "    <tr>\n",
       "      <th>992219</th>\n",
       "      <td>2.122817e+06</td>\n",
       "      <td>9.113760e+05</td>\n",
       "      <td>1.383981e+06</td>\n",
       "      <td>12</td>\n",
       "      <td>3645810</td>\n",
       "    </tr>\n",
       "    <tr>\n",
       "      <th>992220</th>\n",
       "      <td>2.122819e+06</td>\n",
       "      <td>9.166447e+05</td>\n",
       "      <td>1.384026e+06</td>\n",
       "      <td>12</td>\n",
       "      <td>245198</td>\n",
       "    </tr>\n",
       "    <tr>\n",
       "      <th>992221</th>\n",
       "      <td>2.122817e+06</td>\n",
       "      <td>9.153534e+05</td>\n",
       "      <td>1.384004e+06</td>\n",
       "      <td>12</td>\n",
       "      <td>270060</td>\n",
       "    </tr>\n",
       "    <tr>\n",
       "      <th>992222</th>\n",
       "      <td>2.122814e+06</td>\n",
       "      <td>9.141148e+05</td>\n",
       "      <td>1.383982e+06</td>\n",
       "      <td>12</td>\n",
       "      <td>135030</td>\n",
       "    </tr>\n",
       "  </tbody>\n",
       "</table>\n",
       "<p>954980 rows × 5 columns</p>\n",
       "</div>"
      ],
      "text/plain": [
       "              estado     categoria     profesion  antiguedad_laboral  \\\n",
       "2       2.196038e+06  2.196038e+06  2.196038e+06                   1   \n",
       "3       2.523619e+06  2.196038e+06  2.196038e+06                   6   \n",
       "4       4.157479e+06  4.810619e+06  4.810619e+06                   6   \n",
       "6       3.743110e+06  4.040413e+06  2.196038e+06                   6   \n",
       "7       4.479528e+06  4.886610e+06  4.810619e+06                   6   \n",
       "...              ...           ...           ...                 ...   \n",
       "992218  2.122819e+06  9.128731e+05  1.384006e+06                  12   \n",
       "992219  2.122817e+06  9.113760e+05  1.383981e+06                  12   \n",
       "992220  2.122819e+06  9.166447e+05  1.384026e+06                  12   \n",
       "992221  2.122817e+06  9.153534e+05  1.384004e+06                  12   \n",
       "992222  2.122814e+06  9.141148e+05  1.383982e+06                  12   \n",
       "\n",
       "        presupuestado  \n",
       "2             2851200  \n",
       "3             7425200  \n",
       "4             2500000  \n",
       "6             7425200  \n",
       "7             2500000  \n",
       "...               ...  \n",
       "992218         137350  \n",
       "992219        3645810  \n",
       "992220         245198  \n",
       "992221         270060  \n",
       "992222         135030  \n",
       "\n",
       "[954980 rows x 5 columns]"
      ]
     },
     "execution_count": 51,
     "metadata": {},
     "output_type": "execute_result"
    }
   ],
   "source": [
    "df_2024_05_transformed[target] = df_2024_05[target]\n",
    "df_2024_05_transformed"
   ]
  },
  {
   "cell_type": "code",
   "execution_count": 52,
   "id": "bec9c957-5893-4a8c-bae6-0539c58a5b8d",
   "metadata": {},
   "outputs": [],
   "source": [
    "df_2024_05_transformed.to_csv('../processed/funcionarios_2024_5_transformed.csv')"
   ]
  },
  {
   "cell_type": "code",
   "execution_count": 53,
   "id": "335a1fbe-2ae9-490c-9c9f-50ab730b8850",
   "metadata": {},
   "outputs": [],
   "source": [
    "X_train, y_train = df_2024_05_transformed[features], df_2024_05_transformed[target]"
   ]
  },
  {
   "cell_type": "code",
   "execution_count": 54,
   "id": "18718547-fa5f-4a5d-92a6-2c5f43dc1fcf",
   "metadata": {},
   "outputs": [],
   "source": [
    "X_train, X_test, y_train, y_test = train_test_split(X_train, y_train, test_size=0.25, random_state=42)"
   ]
  },
  {
   "cell_type": "markdown",
   "id": "c8dc35c3-68e6-4328-9912-6a19ee75d0e5",
   "metadata": {},
   "source": [
    "Model RandomForestRegressor"
   ]
  },
  {
   "cell_type": "code",
   "execution_count": 55,
   "id": "4147707e-8fa0-4339-86c7-e6bd967da81e",
   "metadata": {},
   "outputs": [
    {
     "name": "stdout",
     "output_type": "stream",
     "text": [
      "rmse 2079652.5273634668\n"
     ]
    }
   ],
   "source": [
    "random_forest_regressor_model = RandomForestRegressor(n_estimators=10, random_state=42)\n",
    "random_forest_regressor_model.fit(X_train, y_train)\n",
    "\n",
    "y_pred = random_forest_regressor_model.predict(X_test)\n",
    "rmse = root_mean_squared_error(y_test, y_pred)\n",
    "print(f\"rmse {rmse}\")"
   ]
  },
  {
   "cell_type": "markdown",
   "id": "4ab2e2ed-05e6-492f-bd0c-d8adfa67d136",
   "metadata": {},
   "source": [
    "Model XGBoost"
   ]
  },
  {
   "cell_type": "code",
   "execution_count": 56,
   "id": "ddd74159-faa1-4b3b-8cdd-1eec6055cdbf",
   "metadata": {},
   "outputs": [
    {
     "name": "stdout",
     "output_type": "stream",
     "text": [
      "rmse 1935766.430477909\n"
     ]
    }
   ],
   "source": [
    "xgb_regressor_model = xgb.XGBRegressor(objective ='reg:squarederror', n_estimators=1000, learning_rate=0.1, random_state=42)\n",
    "xgb_regressor_model.fit(X_train, y_train)\n",
    "\n",
    "y_pred = xgb_regressor_model.predict(X_test)\n",
    "rmse = root_mean_squared_error(y_test, y_pred)\n",
    "print(f\"rmse {rmse}\")"
   ]
  },
  {
   "cell_type": "markdown",
   "id": "966086c1-c135-42e1-80e4-5d40f51efbc8",
   "metadata": {},
   "source": [
    "Model LightGBM"
   ]
  },
  {
   "cell_type": "code",
   "execution_count": 57,
   "id": "ff7ec152-64c3-43a4-8395-d58b5588c817",
   "metadata": {},
   "outputs": [
    {
     "name": "stdout",
     "output_type": "stream",
     "text": [
      "[LightGBM] [Info] Auto-choosing col-wise multi-threading, the overhead of testing was 0.010217 seconds.\n",
      "You can set `force_col_wise=true` to remove the overhead.\n",
      "[LightGBM] [Info] Total Bins 816\n",
      "[LightGBM] [Info] Number of data points in the train set: 716235, number of used features: 4\n",
      "[LightGBM] [Info] Start training from score 2197529.629823\n",
      "rmse 1923593.4036345093\n"
     ]
    }
   ],
   "source": [
    "lgbm_regressor_model = lgb.LGBMRegressor(objective='regression', n_estimators=1000, learning_rate=0.1, random_state=42)\n",
    "lgbm_regressor_model.fit(X_train, y_train)\n",
    "\n",
    "y_pred = lgbm_regressor_model.predict(X_test)\n",
    "rmse = root_mean_squared_error(y_test, y_pred)\n",
    "print(f\"rmse {rmse}\")"
   ]
  },
  {
   "cell_type": "code",
   "execution_count": 66,
   "id": "f24b1dd2-43e2-463f-9766-bf1378013e30",
   "metadata": {},
   "outputs": [
    {
     "data": {
      "text/plain": [
       "<matplotlib.legend.Legend at 0x7f8a8fccc6e0>"
      ]
     },
     "execution_count": 66,
     "metadata": {},
     "output_type": "execute_result"
    },
    {
     "data": {
      "image/png": "[encoded data removed]",
      "text/plain": [
       "<Figure size 640x480 with 1 Axes>"
      ]
     },
     "metadata": {},
     "output_type": "display_data"
    }
   ],
   "source": [
    "sns.histplot(y_pred[:2000,], label='prediction')\n",
    "sns.histplot(y_train[:2000,], label='actual')\n",
    "\n",
    "plt.legend()"
   ]
  },
  {
   "cell_type": "code",
   "execution_count": 67,
   "id": "bba63614-862e-43ef-b86b-aec6a7a8f2a8",
   "metadata": {},
   "outputs": [
    {
     "data": {
      "image/png": "[encoded data removed]",
      "text/plain": [
       "<Figure size 640x480 with 1 Axes>"
      ]
     },
     "metadata": {},
     "output_type": "display_data"
    }
   ],
   "source": [
    "import matplotlib.pyplot as plt\n",
    "\n",
    "plt.scatter(y_test[:2000,], y_pred[:2000,])\n",
    "plt.xlabel(\"Salario Real (y_test)\")\n",
    "plt.ylabel(\"Salario Predicho (y_pred)\")\n",
    "plt.title(\"Comparación de Salarios Reales vs. Predichos\")\n",
    "plt.show()"
   ]
  },
  {
   "cell_type": "code",
   "execution_count": 68,
   "id": "124c9d78-9bbf-4fa1-86ba-0756bd01a08d",
   "metadata": {},
   "outputs": [
    {
     "data": {
      "image/png": "[encoded data removed]",
      "text/plain": [
       "<Figure size 640x480 with 1 Axes>"
      ]
     },
     "metadata": {},
     "output_type": "display_data"
    }
   ],
   "source": [
    "import seaborn as sns\n",
    "\n",
    "sns.regplot(x=y_test[:2000,], y=y_pred[:2000,])\n",
    "plt.xlabel(\"Salario Real (y_test)\")\n",
    "plt.ylabel(\"Salario Predicho (y_pred)\")\n",
    "plt.title(\"Comparación de Salarios Reales vs. Predichos\")\n",
    "plt.show()\n"
   ]
  },
  {
   "cell_type": "markdown",
   "id": "072ae66d-bc5d-4150-8d0e-2a2ccb13eb5a",
   "metadata": {},
   "source": [
    "### Mlflow cliente"
   ]
  },
  {
   "cell_type": "code",
   "execution_count": 47,
   "id": "2a0e3e31-177e-494e-9628-b938e5ec9b23",
   "metadata": {},
   "outputs": [
    {
     "data": {
      "text/plain": [
       "[<Run: data=<RunData: metrics={'mse': 9640955541441.31, 'r2': 0.2532453246196016, 'rmse': 3104988.8150267643}, params={'C': '2.4552024143392552',\n",
       "  'epsilon': '0.7194559036478257',\n",
       "  'max_iter': '2200',\n",
       "  'model': \"{'LinearSVR'}\"}, tags={'best_model': 'best_model_LinearSVR',\n",
       "  'date': '2024_7_29',\n",
       "  'developer': 'joviedo',\n",
       "  'mlflow.log-model.history': '[{\"run_id\": \"a6c2d1c717fa4951a89698ec0492dc3b\", '\n",
       "                              '\"artifact_path\": \"model_location\", '\n",
       "                              '\"utc_time_created\": \"2024-07-29 '\n",
       "                              '04:53:54.830526\", \"flavors\": {\"python_function\": '\n",
       "                              '{\"model_path\": \"model.pkl\", \"predict_fn\": '\n",
       "                              '\"predict\", \"loader_module\": \"mlflow.sklearn\", '\n",
       "                              '\"python_version\": \"3.10.14\", \"env\": {\"conda\": '\n",
       "                              '\"conda.yaml\", \"virtualenv\": \"python_env.yaml\"}}, '\n",
       "                              '\"sklearn\": {\"pickled_model\": \"model.pkl\", '\n",
       "                              '\"sklearn_version\": \"1.5.1\", '\n",
       "                              '\"serialization_format\": \"cloudpickle\", \"code\": '\n",
       "                              'null}}, \"model_uuid\": '\n",
       "                              '\"9a37598f36d8448595e6ffe19d2363df\", '\n",
       "                              '\"mlflow_version\": \"2.14.3\", \"model_size_bytes\": '\n",
       "                              '711}]',\n",
       "  'mlflow.runName': 'beautiful-slug-78',\n",
       "  'mlflow.source.name': '/usr/local/bin/mage',\n",
       "  'mlflow.source.type': 'LOCAL',\n",
       "  'mlflow.user': 'root'}>, info=<RunInfo: artifact_uri='s3://mlflow-bucket/3/a6c2d1c717fa4951a89698ec0492dc3b/artifacts', end_time=1722228841922, experiment_id='3', lifecycle_stage='active', run_id='a6c2d1c717fa4951a89698ec0492dc3b', run_name='beautiful-slug-78', run_uuid='a6c2d1c717fa4951a89698ec0492dc3b', start_time=1722228833329, status='FINISHED', user_id='root'>, inputs=<RunInputs: dataset_inputs=[]>>,\n",
       " <Run: data=<RunData: metrics={'mse': 5647430576555.886,\n",
       "  'r2': -0.26588024021482526,\n",
       "  'rmse': 2376432.321055217}, params={'alpha': '0.029567890836228142', 'max_iter': '2300', 'model': \"{'Lasso'}\"}, tags={'best_model': 'best_model_Lasso',\n",
       "  'date': '2024_7_29',\n",
       "  'developer': 'joviedo',\n",
       "  'mlflow.log-model.history': '[{\"run_id\": \"0a2f797f755446598b84f422bef0be3e\", '\n",
       "                              '\"artifact_path\": \"model_location\", '\n",
       "                              '\"utc_time_created\": \"2024-07-29 '\n",
       "                              '04:53:52.586615\", \"flavors\": {\"python_function\": '\n",
       "                              '{\"model_path\": \"model.pkl\", \"predict_fn\": '\n",
       "                              '\"predict\", \"loader_module\": \"mlflow.sklearn\", '\n",
       "                              '\"python_version\": \"3.10.14\", \"env\": {\"conda\": '\n",
       "                              '\"conda.yaml\", \"virtualenv\": \"python_env.yaml\"}}, '\n",
       "                              '\"sklearn\": {\"pickled_model\": \"model.pkl\", '\n",
       "                              '\"sklearn_version\": \"1.5.1\", '\n",
       "                              '\"serialization_format\": \"cloudpickle\", \"code\": '\n",
       "                              'null}}, \"model_uuid\": '\n",
       "                              '\"825560910fec4318ab38306d1e92eb6f\", '\n",
       "                              '\"mlflow_version\": \"2.14.3\", \"model_size_bytes\": '\n",
       "                              '741}]',\n",
       "  'mlflow.runName': 'luminous-stork-839',\n",
       "  'mlflow.source.name': '/usr/local/bin/mage',\n",
       "  'mlflow.source.type': 'LOCAL',\n",
       "  'mlflow.user': 'root'}>, info=<RunInfo: artifact_uri='s3://mlflow-bucket/3/0a2f797f755446598b84f422bef0be3e/artifacts', end_time=1722228839876, experiment_id='3', lifecycle_stage='active', run_id='0a2f797f755446598b84f422bef0be3e', run_name='luminous-stork-839', run_uuid='0a2f797f755446598b84f422bef0be3e', start_time=1722228832315, status='FINISHED', user_id='root'>, inputs=<RunInputs: dataset_inputs=[]>>,\n",
       " <Run: data=<RunData: metrics={'mse': 5647430576555.888, 'r2': -0.2658802402148249, 'rmse': 2376432.321055217}, params={'alpha': '0.3832165736823468', 'max_iter': '1500', 'model': \"{'Lasso'}\"}, tags={'best_model': 'best_model_Lasso',\n",
       "  'date': '2024_7_29',\n",
       "  'developer': 'joviedo',\n",
       "  'mlflow.log-model.history': '[{\"run_id\": \"96919fb1a7bf4d1faf696d35c62a6908\", '\n",
       "                              '\"artifact_path\": \"model_location\", '\n",
       "                              '\"utc_time_created\": \"2024-07-29 '\n",
       "                              '04:50:32.996061\", \"flavors\": {\"python_function\": '\n",
       "                              '{\"model_path\": \"model.pkl\", \"predict_fn\": '\n",
       "                              '\"predict\", \"loader_module\": \"mlflow.sklearn\", '\n",
       "                              '\"python_version\": \"3.10.14\", \"env\": {\"conda\": '\n",
       "                              '\"conda.yaml\", \"virtualenv\": \"python_env.yaml\"}}, '\n",
       "                              '\"sklearn\": {\"pickled_model\": \"model.pkl\", '\n",
       "                              '\"sklearn_version\": \"1.5.1\", '\n",
       "                              '\"serialization_format\": \"cloudpickle\", \"code\": '\n",
       "                              'null}}, \"model_uuid\": '\n",
       "                              '\"de0420b3a97a4564ae1aa8fb6d9a5f03\", '\n",
       "                              '\"mlflow_version\": \"2.14.3\", \"model_size_bytes\": '\n",
       "                              '741}]',\n",
       "  'mlflow.runName': 'delightful-seal-227',\n",
       "  'mlflow.source.name': '/usr/local/bin/mage',\n",
       "  'mlflow.source.type': 'LOCAL',\n",
       "  'mlflow.user': 'root'}>, info=<RunInfo: artifact_uri='s3://mlflow-bucket/3/96919fb1a7bf4d1faf696d35c62a6908/artifacts', end_time=1722228640095, experiment_id='3', lifecycle_stage='active', run_id='96919fb1a7bf4d1faf696d35c62a6908', run_name='delightful-seal-227', run_uuid='96919fb1a7bf4d1faf696d35c62a6908', start_time=1722228632780, status='FINISHED', user_id='root'>, inputs=<RunInputs: dataset_inputs=[]>>]"
      ]
     },
     "execution_count": 47,
     "metadata": {},
     "output_type": "execute_result"
    }
   ],
   "source": [
    "from mlflow import MlflowClient\n",
    "from mlflow.entities import ViewType\n",
    "import mlflow\n",
    "\n",
    "TRACKING_URI='http://localhost:5000/'\n",
    "EXPERIMENT_NAME = \"funcionarios_publicos_paraguay\"\n",
    "\n",
    "client = MlflowClient(tracking_uri=TRACKING_URI)\n",
    "experiment = client.get_experiment_by_name(EXPERIMENT_NAME)\n",
    "\n",
    "runs = client.search_runs(experiment_ids=[experiment.experiment_id])\n",
    "runs"
   ]
  },
  {
   "cell_type": "code",
   "execution_count": 112,
   "id": "49f34503-0996-40b1-adc4-502781272a4e",
   "metadata": {},
   "outputs": [
    {
     "data": {
      "text/plain": [
       "<Run: data=<RunData: metrics={'mse': 5647430576555.888, 'r2': -0.2658802402148249, 'rmse': 2376432.321055217}, params={'alpha': '0.3832165736823468', 'max_iter': '1500', 'model': \"{'Lasso'}\"}, tags={'best_model': 'best_model_Lasso',\n",
       " 'date': '2024_7_29',\n",
       " 'developer': 'joviedo',\n",
       " 'mlflow.log-model.history': '[{\"run_id\": \"96919fb1a7bf4d1faf696d35c62a6908\", '\n",
       "                             '\"artifact_path\": \"model_location\", '\n",
       "                             '\"utc_time_created\": \"2024-07-29 '\n",
       "                             '04:50:32.996061\", \"flavors\": {\"python_function\": '\n",
       "                             '{\"model_path\": \"model.pkl\", \"predict_fn\": '\n",
       "                             '\"predict\", \"loader_module\": \"mlflow.sklearn\", '\n",
       "                             '\"python_version\": \"3.10.14\", \"env\": {\"conda\": '\n",
       "                             '\"conda.yaml\", \"virtualenv\": \"python_env.yaml\"}}, '\n",
       "                             '\"sklearn\": {\"pickled_model\": \"model.pkl\", '\n",
       "                             '\"sklearn_version\": \"1.5.1\", '\n",
       "                             '\"serialization_format\": \"cloudpickle\", \"code\": '\n",
       "                             'null}}, \"model_uuid\": '\n",
       "                             '\"de0420b3a97a4564ae1aa8fb6d9a5f03\", '\n",
       "                             '\"mlflow_version\": \"2.14.3\", \"model_size_bytes\": '\n",
       "                             '741}]',\n",
       " 'mlflow.runName': 'delightful-seal-227',\n",
       " 'mlflow.source.name': '/usr/local/bin/mage',\n",
       " 'mlflow.source.type': 'LOCAL',\n",
       " 'mlflow.user': 'root'}>, info=<RunInfo: artifact_uri='s3://mlflow-bucket/3/96919fb1a7bf4d1faf696d35c62a6908/artifacts', end_time=1722228640095, experiment_id='3', lifecycle_stage='active', run_id='96919fb1a7bf4d1faf696d35c62a6908', run_name='delightful-seal-227', run_uuid='96919fb1a7bf4d1faf696d35c62a6908', start_time=1722228632780, status='FINISHED', user_id='root'>, inputs=<RunInputs: dataset_inputs=[]>>"
      ]
     },
     "execution_count": 112,
     "metadata": {},
     "output_type": "execute_result"
    }
   ],
   "source": []
  },
  {
   "cell_type": "code",
   "execution_count": 51,
   "id": "0e4f8909-7255-4446-bf7c-e92218acdeec",
   "metadata": {},
   "outputs": [
    {
     "name": "stdout",
     "output_type": "stream",
     "text": [
      "Mejor run: 96919fb1a7bf4d1faf696d35c62a6908\n",
      "Metricas: {'mse': 5647430576555.888, 'rmse': 2376432.321055217, 'r2': -0.2658802402148249}\n"
     ]
    },
    {
     "data": {
      "text/plain": [
       "[<Run: data=<RunData: metrics={'mse': 5647430576555.888, 'r2': -0.2658802402148249, 'rmse': 2376432.321055217}, params={'alpha': '0.3832165736823468', 'max_iter': '1500', 'model': \"{'Lasso'}\"}, tags={'best_model': 'best_model_Lasso',\n",
       "  'date': '2024_7_29',\n",
       "  'developer': 'joviedo',\n",
       "  'mlflow.log-model.history': '[{\"run_id\": \"96919fb1a7bf4d1faf696d35c62a6908\", '\n",
       "                              '\"artifact_path\": \"model_location\", '\n",
       "                              '\"utc_time_created\": \"2024-07-29 '\n",
       "                              '04:50:32.996061\", \"flavors\": {\"python_function\": '\n",
       "                              '{\"model_path\": \"model.pkl\", \"predict_fn\": '\n",
       "                              '\"predict\", \"loader_module\": \"mlflow.sklearn\", '\n",
       "                              '\"python_version\": \"3.10.14\", \"env\": {\"conda\": '\n",
       "                              '\"conda.yaml\", \"virtualenv\": \"python_env.yaml\"}}, '\n",
       "                              '\"sklearn\": {\"pickled_model\": \"model.pkl\", '\n",
       "                              '\"sklearn_version\": \"1.5.1\", '\n",
       "                              '\"serialization_format\": \"cloudpickle\", \"code\": '\n",
       "                              'null}}, \"model_uuid\": '\n",
       "                              '\"de0420b3a97a4564ae1aa8fb6d9a5f03\", '\n",
       "                              '\"mlflow_version\": \"2.14.3\", \"model_size_bytes\": '\n",
       "                              '741}]',\n",
       "  'mlflow.runName': 'delightful-seal-227',\n",
       "  'mlflow.source.name': '/usr/local/bin/mage',\n",
       "  'mlflow.source.type': 'LOCAL',\n",
       "  'mlflow.user': 'root'}>, info=<RunInfo: artifact_uri='s3://mlflow-bucket/3/96919fb1a7bf4d1faf696d35c62a6908/artifacts', end_time=1722228640095, experiment_id='3', lifecycle_stage='active', run_id='96919fb1a7bf4d1faf696d35c62a6908', run_name='delightful-seal-227', run_uuid='96919fb1a7bf4d1faf696d35c62a6908', start_time=1722228632780, status='FINISHED', user_id='root'>, inputs=<RunInputs: dataset_inputs=[]>>,\n",
       " <Run: data=<RunData: metrics={'mse': 5647430576555.886,\n",
       "  'r2': -0.26588024021482526,\n",
       "  'rmse': 2376432.321055217}, params={'alpha': '0.029567890836228142', 'max_iter': '2300', 'model': \"{'Lasso'}\"}, tags={'best_model': 'best_model_Lasso',\n",
       "  'date': '2024_7_29',\n",
       "  'developer': 'joviedo',\n",
       "  'mlflow.log-model.history': '[{\"run_id\": \"0a2f797f755446598b84f422bef0be3e\", '\n",
       "                              '\"artifact_path\": \"model_location\", '\n",
       "                              '\"utc_time_created\": \"2024-07-29 '\n",
       "                              '04:53:52.586615\", \"flavors\": {\"python_function\": '\n",
       "                              '{\"model_path\": \"model.pkl\", \"predict_fn\": '\n",
       "                              '\"predict\", \"loader_module\": \"mlflow.sklearn\", '\n",
       "                              '\"python_version\": \"3.10.14\", \"env\": {\"conda\": '\n",
       "                              '\"conda.yaml\", \"virtualenv\": \"python_env.yaml\"}}, '\n",
       "                              '\"sklearn\": {\"pickled_model\": \"model.pkl\", '\n",
       "                              '\"sklearn_version\": \"1.5.1\", '\n",
       "                              '\"serialization_format\": \"cloudpickle\", \"code\": '\n",
       "                              'null}}, \"model_uuid\": '\n",
       "                              '\"825560910fec4318ab38306d1e92eb6f\", '\n",
       "                              '\"mlflow_version\": \"2.14.3\", \"model_size_bytes\": '\n",
       "                              '741}]',\n",
       "  'mlflow.runName': 'luminous-stork-839',\n",
       "  'mlflow.source.name': '/usr/local/bin/mage',\n",
       "  'mlflow.source.type': 'LOCAL',\n",
       "  'mlflow.user': 'root'}>, info=<RunInfo: artifact_uri='s3://mlflow-bucket/3/0a2f797f755446598b84f422bef0be3e/artifacts', end_time=1722228839876, experiment_id='3', lifecycle_stage='active', run_id='0a2f797f755446598b84f422bef0be3e', run_name='luminous-stork-839', run_uuid='0a2f797f755446598b84f422bef0be3e', start_time=1722228832315, status='FINISHED', user_id='root'>, inputs=<RunInputs: dataset_inputs=[]>>,\n",
       " <Run: data=<RunData: metrics={'mse': 9640955541441.31, 'r2': 0.2532453246196016, 'rmse': 3104988.8150267643}, params={'C': '2.4552024143392552',\n",
       "  'epsilon': '0.7194559036478257',\n",
       "  'max_iter': '2200',\n",
       "  'model': \"{'LinearSVR'}\"}, tags={'best_model': 'best_model_LinearSVR',\n",
       "  'date': '2024_7_29',\n",
       "  'developer': 'joviedo',\n",
       "  'mlflow.log-model.history': '[{\"run_id\": \"a6c2d1c717fa4951a89698ec0492dc3b\", '\n",
       "                              '\"artifact_path\": \"model_location\", '\n",
       "                              '\"utc_time_created\": \"2024-07-29 '\n",
       "                              '04:53:54.830526\", \"flavors\": {\"python_function\": '\n",
       "                              '{\"model_path\": \"model.pkl\", \"predict_fn\": '\n",
       "                              '\"predict\", \"loader_module\": \"mlflow.sklearn\", '\n",
       "                              '\"python_version\": \"3.10.14\", \"env\": {\"conda\": '\n",
       "                              '\"conda.yaml\", \"virtualenv\": \"python_env.yaml\"}}, '\n",
       "                              '\"sklearn\": {\"pickled_model\": \"model.pkl\", '\n",
       "                              '\"sklearn_version\": \"1.5.1\", '\n",
       "                              '\"serialization_format\": \"cloudpickle\", \"code\": '\n",
       "                              'null}}, \"model_uuid\": '\n",
       "                              '\"9a37598f36d8448595e6ffe19d2363df\", '\n",
       "                              '\"mlflow_version\": \"2.14.3\", \"model_size_bytes\": '\n",
       "                              '711}]',\n",
       "  'mlflow.runName': 'beautiful-slug-78',\n",
       "  'mlflow.source.name': '/usr/local/bin/mage',\n",
       "  'mlflow.source.type': 'LOCAL',\n",
       "  'mlflow.user': 'root'}>, info=<RunInfo: artifact_uri='s3://mlflow-bucket/3/a6c2d1c717fa4951a89698ec0492dc3b/artifacts', end_time=1722228841922, experiment_id='3', lifecycle_stage='active', run_id='a6c2d1c717fa4951a89698ec0492dc3b', run_name='beautiful-slug-78', run_uuid='a6c2d1c717fa4951a89698ec0492dc3b', start_time=1722228833329, status='FINISHED', user_id='root'>, inputs=<RunInputs: dataset_inputs=[]>>]"
      ]
     },
     "execution_count": 51,
     "metadata": {},
     "output_type": "execute_result"
    }
   ],
   "source": [
    "sorted_runs = sorted(runs, key=lambda run: (run.data.metrics.get(\"rmse\"), -run.data.metrics.get(\"r2\")))\n",
    "\n",
    "best_run = sorted_runs[0]\n",
    "\n",
    "print(\"Mejor run:\", best_run.info.run_id)\n",
    "print(\"Metricas:\", best_run.data.metrics)\n",
    "sorted_runs"
   ]
  },
  {
   "cell_type": "code",
   "execution_count": 49,
   "id": "5347a878-3678-4493-80aa-e30937676252",
   "metadata": {},
   "outputs": [
    {
     "name": "stderr",
     "output_type": "stream",
     "text": [
      "Registered model 'ml_regressor_func_pu_py' already exists. Creating a new version of this model...\n",
      "2024/08/01 01:04:36 INFO mlflow.store.model_registry.abstract_store: Waiting up to 300 seconds for model version to finish creation. Model name: ml_regressor_func_pu_py, version 20\n",
      "Created version '20' of model 'ml_regressor_func_pu_py'.\n"
     ]
    },
    {
     "data": {
      "text/plain": [
       "1722488676903"
      ]
     },
     "execution_count": 49,
     "metadata": {},
     "output_type": "execute_result"
    }
   ],
   "source": [
    "model_uri = f\"runs:/{best_run.info.run_id}/model_location\" \n",
    "MODEL_NAME = \"ml_regressor_func_pu_py\"\n",
    "mlflow.set_tracking_uri(TRACKING_URI)\n",
    "\n",
    "model_details = mlflow.register_model(model_uri=model_uri, name=MODEL_NAME)\n",
    "model_details.creation_timestamp"
   ]
  },
  {
   "cell_type": "code",
   "execution_count": 46,
   "id": "94fda96e-a1f6-439a-b7c1-4e5789cfdc75",
   "metadata": {},
   "outputs": [
    {
     "name": "stdout",
     "output_type": "stream",
     "text": [
      "Modelo encontrado: ml_regressor_func_pu_py, Versión: 1\n",
      "3\n",
      "0a2f797f755446598b84f422bef0be3e\n",
      "0a2f797f755446598b84f422bef0be3e\n"
     ]
    }
   ],
   "source": [
    "import mlflow\n",
    "\n",
    "TRACKING_URI='http://localhost:5000/'\n",
    "\n",
    "model_name = \"ml_regressor_func_pu_py\"\n",
    "tag_key = \"current_stage\"\n",
    "tag_value = \"Production\"\n",
    "\n",
    "mlflow.set_tracking_uri(TRACKING_URI)\n",
    "\n",
    "filter_string = f\"name='{model_name}'\"\n",
    "results = mlflow.search_registered_models(filter_string=filter_string)\n",
    "\n",
    "\n",
    "# Filtrar los resultados para encontrar el modelo con la etiqueta correcta en su última versión\n",
    "for model in results:\n",
    "    latest_version = model.latest_versions[0]\n",
    "    if tag_key in latest_version.tags and latest_version.tags[tag_key] == tag_value:\n",
    "        print(f\"Modelo encontrado: {model.name}, Versión: {latest_version.version}\")\n",
    "        print(latest_version.source.split(\"/\")[3])\n",
    "        print(latest_version.source.split(\"/\")[4])\n",
    "        print(latest_version.run_id)\n",
    "        #return True\n",
    "        break  # Detener la búsqueda si se encuentra el modelo\n",
    "else:\n",
    "    print(\"No se encontró ningún modelo con el nombre y etiqueta especificados.\")\n",
    "    #return False\n",
    "\n",
    "\n",
    "\n"
   ]
  },
  {
   "cell_type": "code",
   "execution_count": 33,
   "id": "51364380-ef75-4464-9d96-22e9d1b25a7a",
   "metadata": {},
   "outputs": [
    {
     "data": {
      "text/plain": [
       "<ModelVersion: aliases=[], creation_timestamp=1722230875397, current_stage='None', description='', last_updated_timestamp=1722230875397, name='ml_regressor_func_pu_py', run_id='0a2f797f755446598b84f422bef0be3e', run_link='', source='s3://mlflow-bucket/3/0a2f797f755446598b84f422bef0be3e/artifacts/model_location', status='READY', status_message='', tags={}, user_id='', version='1'>"
      ]
     },
     "execution_count": 33,
     "metadata": {},
     "output_type": "execute_result"
    }
   ],
   "source": [
    "latest_versions = client.search_model_versions(f\"name='{MODEL_NAME}'\")\n",
    "latest_version = latest_versions[0] \n",
    "latest_version"
   ]
  },
  {
   "cell_type": "code",
   "execution_count": 39,
   "id": "8769c0d3-ea14-4a1d-8397-37d9cf89c0b5",
   "metadata": {},
   "outputs": [
    {
     "name": "stdout",
     "output_type": "stream",
     "text": [
      "Modelo registrado: ml_regressor_func_pu_py, versión: 1 (etiquetado como 'Production')\n"
     ]
    }
   ],
   "source": [
    "# Establecer el modelo como el actual para producción\n",
    "client.set_model_version_tag(\n",
    "    name=MODEL_NAME,\n",
    "    version=latest_version.version,\n",
    "    key=\"current_stage\",\n",
    "    value=\"Production\",\n",
    ")\n",
    "\n",
    "print(f\"Modelo registrado: {MODEL_NAME}, versión: {latest_version.version} (etiquetado como 'Production')\")"
   ]
  },
  {
   "cell_type": "code",
   "execution_count": 106,
   "id": "59210cfe-b037-429c-b11a-2a61917fc58b",
   "metadata": {},
   "outputs": [
    {
     "data": {
      "text/plain": [
       "[<RegisteredModel: aliases={}, creation_timestamp=1722230875296, description='', last_updated_timestamp=1722231671574, latest_versions=[<ModelVersion: aliases=[], creation_timestamp=1722230875397, current_stage='Production', description='', last_updated_timestamp=1722231671574, name='ml_regressor_func_pu_py', run_id='0a2f797f755446598b84f422bef0be3e', run_link='', source='s3://mlflow-bucket/3/0a2f797f755446598b84f422bef0be3e/artifacts/model_location', status='READY', status_message='', tags={'current_stage': 'Production'}, user_id='', version='1'>], name='ml_regressor_func_pu_py', tags={}>]"
      ]
     },
     "execution_count": 106,
     "metadata": {},
     "output_type": "execute_result"
    }
   ],
   "source": [
    "import mlflow\n",
    "\n",
    "mlflow.set_tracking_uri(TRACKING_URI)\n",
    "model_name = \"ml_regressor_func_pu_py\"\n",
    "tag_key = \"current_stage\"\n",
    "tag_value = \"Production\"\n",
    "\n",
    "# Realizar la búsqueda\n",
    "#filter_string = f\"name='{model_name}' \" #and tag.key='{tag_key}'\n",
    "#results = mlflow.search_registered_models(filter_string=filter_string)\n",
    "#results\n",
    "\n",
    "results = mlflow.search_registered_models()\n",
    "filtered_results = list(filter(\n",
    "    lambda model:  model.name == model_name and model.latest_versions[0].tags.get(tag_key) == tag_value, results\n",
    "))\n"
   ]
  },
  {
   "cell_type": "code",
   "execution_count": 107,
   "id": "e0b6f79c-48eb-4fbf-8abb-88d16b82c2c0",
   "metadata": {},
   "outputs": [
    {
     "data": {
      "text/plain": [
       "'s3://mlflow-bucket/3/0a2f797f755446598b84f422bef0be3e/artifacts/model_location'"
      ]
     },
     "execution_count": 107,
     "metadata": {},
     "output_type": "execute_result"
    }
   ],
   "source": [
    "filtered_results[0].latest_versions[0].source"
   ]
  },
  {
   "cell_type": "code",
   "execution_count": 43,
   "id": "808ca77f-6d21-43a3-8f37-e820257c4acd",
   "metadata": {},
   "outputs": [
    {
     "data": {
      "text/plain": [
       "{'rmse': 2376432.321055217, 'r2': -0.26588024021482526}"
      ]
     },
     "execution_count": 43,
     "metadata": {},
     "output_type": "execute_result"
    }
   ],
   "source": [
    "mlflow.set_tracking_uri(\"http://localhost:5000\")\n",
    "\n",
    "experiment = mlflow.get_experiment_by_name(\"funcionarios_publicos_paraguay\")\n",
    "experiment_id = experiment.experiment_id\n",
    "run_id = \"0a2f797f755446598b84f422bef0be3e\" \n",
    "\n",
    "runs = mlflow.search_runs(experiment_ids=[experiment_id], filter_string=f\"run_id = '{run_id}'\")\n",
    "\n",
    "dict(rmse=runs[\"metrics.rmse\"].values[0], r2=runs[\"metrics.r2\"].values[0])"
   ]
  },
  {
   "cell_type": "code",
   "execution_count": 50,
   "id": "73e69aa6-a07d-48c3-a01e-c022a20f1d25",
   "metadata": {},
   "outputs": [
    {
     "data": {
      "text/plain": [
       "([<RegisteredModel: aliases={'champion': '1'}, creation_timestamp=1722490882430, description='', last_updated_timestamp=1722490882534, latest_versions=[<ModelVersion: aliases=[], creation_timestamp=1722490882534, current_stage='None', description='', last_updated_timestamp=1722490882534, name='ml_regressor_func_pu_test2', run_id='96919fb1a7bf4d1faf696d35c62a6908', run_link='', source='s3://mlflow-bucket/3/96919fb1a7bf4d1faf696d35c62a6908/artifacts/model_location', status='READY', status_message='', tags={'current_stage': 'Production'}, user_id='', version='1'>], name='ml_regressor_func_pu_test2', tags={}>],\n",
       " '1')"
      ]
     },
     "execution_count": 50,
     "metadata": {},
     "output_type": "execute_result"
    }
   ],
   "source": [
    "client = MlflowClient(tracking_uri=\"http://localhost:5000\")\n",
    "artifact_path_prefix = version = None\n",
    "\n",
    "version_n = [model.aliases.get(\"champion\") for model in client.search_registered_models(f\"name='ml_regressor_func_pu_test2'\")][0]\n",
    "\n",
    "filtered_models = [model for model in client.search_registered_models(f\"name='ml_regressor_func_pu_test2'\") \n",
    "                        if any(version.tags.get(\"current_stage\") == \"Production\" \n",
    "                               for version in model.latest_versions \n",
    "                               if version.version == version_n\n",
    "                        )\n",
    "]\n",
    "\n",
    "filtered_models, version_n"
   ]
  },
  {
   "cell_type": "code",
   "execution_count": 29,
   "id": "a079b518-9741-4a01-8bbb-2502f635fdf3",
   "metadata": {},
   "outputs": [
    {
     "data": {
      "text/plain": [
       "'1'"
      ]
     },
     "execution_count": 29,
     "metadata": {},
     "output_type": "execute_result"
    }
   ],
   "source": [
    "[model.aliases.get(ALIAS) for model in client.search_registered_models(f\"name='{model_name}'\")][0]"
   ]
  },
  {
   "cell_type": "markdown",
   "id": "ec031047",
   "metadata": {},
   "source": []
  },
  {
   "cell_type": "code",
   "execution_count": 7,
   "id": "02e3403f-d835-4ff9-ac95-b90b36168279",
   "metadata": {},
   "outputs": [
    {
     "data": {
      "text/plain": [
       "('3/96919fb1a7bf4d1faf696d35c62a6908/artifacts/model_location', '1')"
      ]
     },
     "execution_count": 7,
     "metadata": {},
     "output_type": "execute_result"
    }
   ],
   "source": [
    "if filtered_models:\n",
    "    model = filtered_models[0]\n",
    "    latest_version = model.latest_versions[0]\n",
    "    artifact_path_prefix = latest_version.source or \"\"\n",
    "    version = latest_version.version\n",
    "\n",
    "    if artifact_path_prefix.startswith(\"s3://\"):\n",
    "        artifact_path_prefix = \"/\".join(artifact_path_prefix.split(\"/\")[-4:])\n",
    "    \n",
    "artifact_path_prefix, version"
   ]
  },
  {
   "cell_type": "code",
   "execution_count": 8,
   "id": "8d521887-d14a-4e6a-aebc-f8f8076e0be5",
   "metadata": {},
   "outputs": [],
   "source": [
    "from mlflow.tracking.client import MlflowClient\n",
    "\n",
    "client = MlflowClient(tracking_uri=\"http://localhost:5000\")\n",
    "version_n = filtered_models = artifact_path_prefix = None\n",
    "MODEL_NAME = \"ml_regressor_func_pu_test2\"\n",
    "\n",
    "data_registered_models = [model.aliases.get(\"champion\") for model in client.search_registered_models(f\"name='{MODEL_NAME}'\")]"
   ]
  },
  {
   "cell_type": "markdown",
   "id": "30dca015-5426-426d-a657-1dc010955e42",
   "metadata": {},
   "source": [
    "### S3 localstack"
   ]
  },
  {
   "cell_type": "code",
   "execution_count": 44,
   "id": "69872667-8911-43ee-8c9b-ec3368802c93",
   "metadata": {},
   "outputs": [
    {
     "name": "stdout",
     "output_type": "stream",
     "text": [
      "Objeto descargado como 'prueba_descarga.csv'\n"
     ]
    }
   ],
   "source": [
    "import boto3\n",
    "import botocore\n",
    "\n",
    "s3 = boto3.client('s3', endpoint_url='http://localhost:4566')\n",
    "bucket_name = 'data-clean-trams'\n",
    "object_key = 'funcionario_publico_2024_5.csv'\n",
    "filename = 'prueba_descarga.csv'\n",
    "\n",
    "try:\n",
    "    s3.download_file(bucket_name, object_key, filename)\n",
    "    print(f\"Objeto descargado como '{filename}'\")\n",
    "except botocore.exceptions.ClientError as e:\n",
    "    print(f\"Error al descargar el objeto: {e}\")"
   ]
  },
  {
   "cell_type": "code",
   "execution_count": 45,
   "id": "93bc63a7-0423-42be-b533-57291b658b7a",
   "metadata": {},
   "outputs": [
    {
     "name": "stdout",
     "output_type": "stream",
     "text": [
      "total 812\n",
      "-rw-rw-r-- 1 joviedo joviedo 374017 Jul 29 02:26 data_set_analysis.ipynb\n",
      "drwxrwxr-x 5 joviedo joviedo   4096 Jul 29 01:24 mlruns\n",
      "-rw-rw-r-- 1 joviedo joviedo 449736 Jul 29 02:26 prueba_descarga.csv\n"
     ]
    }
   ],
   "source": [
    "!ls -l"
   ]
  },
  {
   "cell_type": "code",
   "execution_count": 46,
   "id": "c95183c8-6339-4a78-8ce8-fa4b160ea92e",
   "metadata": {},
   "outputs": [],
   "source": [
    "!rm -f prueba_descarga.csv"
   ]
  }
 ],
 "metadata": {
  "kernelspec": {
   "display_name": "Python 3 (ipykernel)",
   "language": "python",
   "name": "python3"
  },
  "language_info": {
   "codemirror_mode": {
    "name": "ipython",
    "version": 3
   },
   "file_extension": ".py",
   "mimetype": "text/x-python",
   "name": "python",
   "nbconvert_exporter": "python",
   "pygments_lexer": "ipython3",
   "version": "3.12.3"
  }
 },
 "nbformat": 4,
 "nbformat_minor": 5
}
